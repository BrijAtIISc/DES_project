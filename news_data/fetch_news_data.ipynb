{
 "cells": [
  {
   "cell_type": "code",
   "execution_count": 7,
   "metadata": {
    "id": "5G7hDBy6YX4D"
   },
   "outputs": [],
   "source": [
    "import re\n",
    "import os\n",
    "import glob\n",
    "import time\n",
    "import json\n",
    "import random\n",
    "import requests\n",
    "import pandas as pd\n",
    "from datetime import datetime, timezone, timedelta\n",
    "from newspaper import Article, Config\n",
    "from bs4 import BeautifulSoup\n",
    "from tqdm.notebook import tqdm\n",
    "from IPython.display import clear_output"
   ]
  },
  {
   "cell_type": "code",
   "execution_count": 8,
   "metadata": {},
   "outputs": [],
   "source": [
    "no_tz = lambda dt:   dt.astimezone(timezone.utc).replace(tzinfo=None) if dt.tzinfo else dt\n",
    "tqdm.pandas()"
   ]
  },
  {
   "cell_type": "code",
   "execution_count": 9,
   "metadata": {
    "id": "p32crnSLYX4F"
   },
   "outputs": [],
   "source": [
    "def get_config():\n",
    "    config = Config()\n",
    "    config.request_timeout = 10\n",
    "    config.follow_meta_refresh = True\n",
    "    config.memoize_articles = False\n",
    "    config.fetch_images = False\n",
    "    config.browser_user_agent = random.choice([\n",
    "        'Mozilla/5.0 (Macintosh; Intel Mac OS X 10_15_6) AppleWebKit/537.36 (KHTML, like Gecko) Chrome/85.0.4183.121 Safari/537.36',\n",
    "        'Mozilla/5.0 (Macintosh; Intel Mac OS X 10_15_7) AppleWebKit/537.36 (KHTML, like Gecko) Chrome/131.0.0.0 Safari/537.36 Edg/131.0.0.0',\n",
    "        'Mozilla/5.0 (Macintosh; Intel Mac OS X 10_15_7) AppleWebKit/537.36 (KHTML, like Gecko) Chrome/121.0.0.0 Safari/537.36',\n",
    "        'Mozilla/5.0 (Windows NT 10.0; Win64; x64) AppleWebKit/537.36 (KHTML, like Gecko) Chrome/115.0.0.0 Safari/537.36',\n",
    "        'Mozilla/5.0 (Windows NT 10.0; Win64; x64) AppleWebKit/537.36 (KHTML, like Gecko) Chrome/120.0.0.0 Safari/537.36',\n",
    "        'Mozilla/5.0 (Windows NT 10.0; Win64; x64) AppleWebKit/537.36 (KHTML, like Gecko) Chrome/122.0.0.0 Safari/537.36',\n",
    "        'Mozilla/5.0 (Windows NT 10.0; Win64; x64) AppleWebKit/537.36 (KHTML, like Gecko) Chrome/124.0.0.0 Safari/537.36 Edg/111.0.1661.62',\n",
    "        'Mozilla/5.0 (Windows NT 10.0; Win64; x64; rv:66.0) Gecko/20100101 Firefox/110.0',\n",
    "        'Mozilla/5.0 (Windows NT 10.0; Win64; x64; rv:109.0) Gecko/20100101 Firefox/111.0'\n",
    "        'Mozilla/5.0 (X11; Linux x86_64) AppleWebKit/537.36 (KHTML, like Gecko) Chrome/123.0.0.0 Safari/537.36',\n",
    "    ])\n",
    "    return config"
   ]
  },
  {
   "cell_type": "code",
   "execution_count": 10,
   "metadata": {
    "id": "1MalD08NYX4G"
   },
   "outputs": [],
   "source": [
    "class CustomArticle(Article):\n",
    "    def build(self):\n",
    "        super().build()\n",
    "        soup = BeautifulSoup(self.html, 'html.parser')\n",
    "\n",
    "        if not self.authors:\n",
    "            candidates = map(lambda x: x.get_text().strip(), soup.select('a[href*=author]'))\n",
    "            self.authors.extend(candidates)\n",
    "\n",
    "        if not self.text:\n",
    "            paragraphs = soup.find_all('p')\n",
    "            lists = soup.find_all('ul')\n",
    "            divs = soup.find_all('div')\n",
    "\n",
    "            para_text = \"\\n\".join([p.get_text().strip() for p in paragraphs])\n",
    "            list_text = \"\\n\".join([ul.get_text().strip() for ul in lists])\n",
    "            divs_text = \"\\n\".join([d.get_text().strip() for d in divs])\n",
    "\n",
    "            self.text = para_text + \"\\n\" + list_text + \"\\n\" + divs_text\n",
    "            self.text = self.text.strip()\n",
    "\n",
    "\n",
    "    @property\n",
    "    def datetime(self):\n",
    "        date_pattern = r'\\d{4}-\\d{2}-\\d{2}T\\d{2}:\\d{2}:\\d{2}(?:\\.\\d+)?(?:Z|[+-]\\d{2}:\\d{2})?'\n",
    "        json_str = json.dumps(self.meta_data)\n",
    "        if matches := re.findall(date_pattern, json_str):\n",
    "            dt = datetime.fromisoformat(sorted(matches)[len(matches) // 2])\n",
    "            return no_tz(dt).isoformat()\n",
    "\n",
    "        date_patterns = [\n",
    "            (\"%B %d, %Y, %H:%M\", r\"\\b\\w+ \\d{1,2}, \\d{4}, \\d{2}:\\d{2}\"),\n",
    "            (\"%b %d, %Y, %H:%M\", r\"\\b\\w{3} \\d{1,2}, \\d{4}, \\d{2}:\\d{2}\"),\n",
    "            (\"%b %d, %Y %H:%M\", r\"\\b\\w{3} \\d{1,2}, \\d{4} \\d{2}:\\d{2}\"),\n",
    "            (\"%d %b %I:%M %p\", r\"\\b\\d{1,2} \\w{3} \\d{1,2}:\\d{2} (?:am|pm)\"),\n",
    "            (\"%H:%M (IST) %d %b %Y\", r\"\\d{2}:\\d{2} \\(IST\\) \\d{1,2} \\w{3} \\d{4}\"),\n",
    "        ]\n",
    "\n",
    "        for fmt, rgx in date_patterns:\n",
    "            for match in re.finditer(rgx, self.html, re.IGNORECASE):\n",
    "                substring = match.group(0)\n",
    "                try:\n",
    "                    parsed_date = datetime.strptime(substring, fmt)\n",
    "                    if parsed_date.year < 2000:     parsed_date = parsed_date.replace(year=datetime.now().year)\n",
    "                    return parsed_date.isoformat()\n",
    "                except ValueError:\n",
    "                    continue\n",
    "\n",
    "        return None"
   ]
  },
  {
   "cell_type": "code",
   "execution_count": 11,
   "metadata": {
    "id": "7S8UD19IYX4G"
   },
   "outputs": [],
   "source": [
    "def scrape_article(obj):\n",
    "    try:\n",
    "        time.sleep(random.uniform(1, 2))\n",
    "        article = CustomArticle(obj['link'], config=get_config())\n",
    "        article.build()\n",
    "        return {\n",
    "            \"url\": obj['link'],\n",
    "            \"source_url\": article.source_url,\n",
    "            \"title\": article.title,\n",
    "            \"text\": article.title+\"\\n\"+article.text,\n",
    "            \"metadata\": article.meta_data,\n",
    "            \"authors\": article.authors,\n",
    "            \"description\": article.meta_description,\n",
    "            \"date_metadata\": article.datetime,\n",
    "            \"date_published\": no_tz(article.publish_date).isoformat() if article.publish_date else None,\n",
    "            \"date_google\": no_tz(datetime.fromisoformat(obj['time'])).isoformat() if obj['time'] else None,\n",
    "            \"date_target\": no_tz(datetime.fromisoformat(obj['target'])).isoformat() if obj['target'] else None,\n",
    "        }\n",
    "    except Exception as e:\n",
    "        print(f\"[{obj['target']}] Failed to scrape {obj['link']}: {e}\")\n",
    "        return obj"
   ]
  },
  {
   "cell_type": "code",
   "execution_count": 12,
   "metadata": {},
   "outputs": [
    {
     "name": "stdout",
     "output_type": "stream",
     "text": [
      "Processing: ../news_links/data/search_results_1732705875.831861.csv\n"
     ]
    },
    {
     "data": {
      "application/vnd.jupyter.widget-view+json": {
       "model_id": "cd47c76d4ab44d38aaed0f94ffb00597",
       "version_major": 2,
       "version_minor": 0
      },
      "text/plain": [
       "  0%|          | 0/629 [00:00<?, ?it/s]"
      ]
     },
     "metadata": {},
     "output_type": "display_data"
    },
    {
     "name": "stdout",
     "output_type": "stream",
     "text": [
      "[2024-10-07] Failed to scrape https://investor.lifestance.com/news-releases/news-release-details/lifestance-survey-finds-79-americans-are-experiencing-anxiety/: Article `download()` failed with HTTPSConnectionPool(host='investor.lifestance.com', port=443): Read timed out. (read timeout=10) on URL https://investor.lifestance.com/news-releases/news-release-details/lifestance-survey-finds-79-americans-are-experiencing-anxiety/\n",
      "[2024-10-07] Failed to scrape https://www.opensecrets.org/news/2024/10/total-2024-election-spending-projected-to-exceed-previous-record/: Article `download()` failed with 403 Client Error: Forbidden for url: https://www.opensecrets.org/news/2024/10/total-2024-election-spending-projected-to-exceed-previous-record/ on URL https://www.opensecrets.org/news/2024/10/total-2024-election-spending-projected-to-exceed-previous-record/\n",
      "[2024-10-07] Failed to scrape https://www.nasfaa.org/news-item/34788/What_a_Second_Trump_Term_Could_Mean_for_Student_Financial_Aid: Article `download()` failed with 403 Client Error: Forbidden for url: https://www.nasfaa.org/news-item/34788/What_a_Second_Trump_Term_Could_Mean_for_Student_Financial_Aid on URL https://www.nasfaa.org/news-item/34788/What_a_Second_Trump_Term_Could_Mean_for_Student_Financial_Aid\n",
      "[2024-10-07] Failed to scrape https://www.france24.com/en/americas/20241007-harris-trump-step-up-attacks-with-less-than-a-month-to-us-presidential-election: Article `download()` failed with 403 Client Error: Forbidden for url: https://www.france24.com/en/americas/20241007-harris-trump-step-up-attacks-with-less-than-a-month-to-us-presidential-election on URL https://www.france24.com/en/americas/20241007-harris-trump-step-up-attacks-with-less-than-a-month-to-us-presidential-election\n",
      "[2024-10-07] Failed to scrape https://www.vpm.org/elections/2024-10-08/wamu-guide-2024-us-senate-race-virginia-hung-cao-tim-kaine: Article `download()` failed with 403 Client Error: Forbidden for url: https://www.vpm.org/elections/2024-10-08/wamu-guide-2024-us-senate-race-virginia-hung-cao-tim-kaine on URL https://www.vpm.org/elections/2024-10-08/wamu-guide-2024-us-senate-race-virginia-hung-cao-tim-kaine\n",
      "[2024-10-07] Failed to scrape https://www.dni.gov/index.php/fmic-news/4002-election-security-update-2021007: Article `download()` failed with 403 Client Error: Forbidden for url: https://www.dni.gov/index.php/fmic-news/4002-election-security-update-2021007 on URL https://www.dni.gov/index.php/fmic-news/4002-election-security-update-2021007\n",
      "[2024-10-07] Failed to scrape https://www.reuters.com/world/us/us-expecting-foreign-actors-question-validity-election-2024-10-07/: Article `download()` failed with 401 Client Error: HTTP Forbidden for url: https://www.reuters.com/world/us/us-expecting-foreign-actors-question-validity-election-2024-10-07/ on URL https://www.reuters.com/world/us/us-expecting-foreign-actors-question-validity-election-2024-10-07/\n",
      "[2024-10-07] Failed to scrape https://www.businesswire.com/news/home/20241007228094/en/Interactive-Brokers-Announces-Trading-in-Election-Forecast-Contracts-Surpasses-1000000-on-Successful-Launch: Article `download()` failed with HTTPSConnectionPool(host='www.businesswire.com', port=443): Read timed out. (read timeout=10) on URL https://www.businesswire.com/news/home/20241007228094/en/Interactive-Brokers-Announces-Trading-in-Election-Forecast-Contracts-Surpasses-1000000-on-Successful-Launch\n",
      "[2024-10-07] Failed to scrape https://www.americanimmigrationcouncil.org/research/h1b-visa-program-fact-sheet: Article `download()` failed with 403 Client Error: Forbidden for url: https://www.americanimmigrationcouncil.org/research/h1b-visa-program-fact-sheet on URL https://www.americanimmigrationcouncil.org/research/h1b-visa-program-fact-sheet\n",
      "[2024-10-08] Failed to scrape https://www.oak-park.us/news/early-voting-2024-presidential-election-begins-village-hall-october-21: Article `download()` failed with HTTPSConnectionPool(host='www.oak-park.us', port=443): Max retries exceeded with url: /news/early-voting-2024-presidential-election-begins-village-hall-october-21 (Caused by ConnectTimeoutError(<urllib3.connection.HTTPSConnection object at 0x16db81f90>, 'Connection to www.oak-park.us timed out. (connect timeout=10)')) on URL https://www.oak-park.us/news/early-voting-2024-presidential-election-begins-village-hall-october-21\n",
      "[2024-10-08] Failed to scrape https://www.americanprogress.org/article/how-the-biden-harris-administration-is-ensuring-voting-accessibility/: Article `download()` failed with 403 Client Error: Forbidden for url: https://www.americanprogress.org/article/how-the-biden-harris-administration-is-ensuring-voting-accessibility/ on URL https://www.americanprogress.org/article/how-the-biden-harris-administration-is-ensuring-voting-accessibility/\n",
      "[2024-10-08] Failed to scrape https://www.washingtonpost.com/opinions/2024/10/09/harris-indian-immigrants-georgia/: Article `download()` failed with HTTPSConnectionPool(host='www.washingtonpost.com', port=443): Read timed out. (read timeout=10) on URL https://www.washingtonpost.com/opinions/2024/10/09/harris-indian-immigrants-georgia/\n",
      "[2024-10-09] Failed to scrape https://news.rice.edu/news/2024/political-reporters-discuss-potential-outcome-texas-elections-baker-institute-event: Article `download()` failed with 406 Client Error: Not Acceptable for url: https://news.rice.edu/news/2024/political-reporters-discuss-potential-outcome-texas-elections-baker-institute-event on URL https://news.rice.edu/news/2024/political-reporters-discuss-potential-outcome-texas-elections-baker-institute-event\n",
      "[2024-10-09] Failed to scrape https://www.reuters.com/business/aerospace-defense/delta-forecasts-record-fourth-quarter-profit-improved-pricing-strong-holiday-2024-10-10/: Article `download()` failed with 401 Client Error: HTTP Forbidden for url: https://www.reuters.com/business/aerospace-defense/delta-forecasts-record-fourth-quarter-profit-improved-pricing-strong-holiday-2024-10-10/ on URL https://www.reuters.com/business/aerospace-defense/delta-forecasts-record-fourth-quarter-profit-improved-pricing-strong-holiday-2024-10-10/\n",
      "[2024-10-10] Failed to scrape https://skelley.catapult.bates.edu/pcr/2024-m/sample-page/: Article `download()` failed with HTTPSConnectionPool(host='skelley.catapult.bates.edu', port=443): Read timed out. (read timeout=10) on URL https://skelley.catapult.bates.edu/pcr/2024-m/sample-page/\n",
      "[2024-10-10] Failed to scrape https://www.slocounty.ca.gov/departments/clerk-recorder/news-announcements/curious-about-what-happens-once-you-write-in-a-vote: Article `download()` failed with 403 Client Error: Forbidden for url: https://www.slocounty.ca.gov/departments/clerk-recorder/news-announcements/curious-about-what-happens-once-you-write-in-a-vote on URL https://www.slocounty.ca.gov/departments/clerk-recorder/news-announcements/curious-about-what-happens-once-you-write-in-a-vote\n",
      "[2024-10-10] Failed to scrape https://nationalmortgageprofessional.com/news/sidelined-homebuyers-prioritize-education-presidential-election: Article `download()` failed with 403 Client Error: Forbidden for url: https://nationalmortgageprofessional.com/news/sidelined-homebuyers-prioritize-education-presidential-election on URL https://nationalmortgageprofessional.com/news/sidelined-homebuyers-prioritize-education-presidential-election\n",
      "[2024-10-10] Failed to scrape https://www.france24.com/en/americas/20241010-trump-refuses-us-presidential-debate-rematch-with-harris: Article `download()` failed with 403 Client Error: Forbidden for url: https://www.france24.com/en/americas/20241010-trump-refuses-us-presidential-debate-rematch-with-harris on URL https://www.france24.com/en/americas/20241010-trump-refuses-us-presidential-debate-rematch-with-harris\n",
      "[2024-10-10] Failed to scrape https://www.abingtonma.gov/article/1814579: Article `download()` failed with ('Connection aborted.', ConnectionResetError(54, 'Connection reset by peer')) on URL https://www.abingtonma.gov/article/1814579\n",
      "[2024-10-11] Failed to scrape https://www.washingtonpost.com/elections/2024/10/12/2024-election-campaign-updates-harris-trump/: Article `download()` failed with HTTPSConnectionPool(host='www.washingtonpost.com', port=443): Read timed out. (read timeout=10) on URL https://www.washingtonpost.com/elections/2024/10/12/2024-election-campaign-updates-harris-trump/\n",
      "[2024-10-11] Failed to scrape https://www.france24.com/en/tv-shows/focus/20241012-influence-of-ai-and-deepfakes-looms-large-over-us-presidential-race: Article `download()` failed with 403 Client Error: Forbidden for url: https://www.france24.com/en/tv-shows/focus/20241012-influence-of-ai-and-deepfakes-looms-large-over-us-presidential-race on URL https://www.france24.com/en/tv-shows/focus/20241012-influence-of-ai-and-deepfakes-looms-large-over-us-presidential-race\n",
      "[2024-10-12] Failed to scrape https://www.reuters.com/markets/what-matters-most-world-markets-tight-us-election-race-2024-10-11/: Article `download()` failed with 401 Client Error: HTTP Forbidden for url: https://www.reuters.com/markets/what-matters-most-world-markets-tight-us-election-race-2024-10-11/ on URL https://www.reuters.com/markets/what-matters-most-world-markets-tight-us-election-race-2024-10-11/\n",
      "[2024-10-12] Failed to scrape https://thehill.com/homenews/4922114-who-is-not-allowed-to-vote-in-the-2024-presidential-election/: Article `download()` failed with 403 Client Error: Forbidden for url: https://thehill.com/homenews/4922114-who-is-not-allowed-to-vote-in-the-2024-presidential-election/ on URL https://thehill.com/homenews/4922114-who-is-not-allowed-to-vote-in-the-2024-presidential-election/\n",
      "[2024-10-12] Failed to scrape https://www.politico.com/news/2024/10/12/trump-racist-rhetoric-immigrants-00183537: Article `download()` failed with 403 Client Error: Forbidden for url: https://www.politico.com/news/2024/10/12/trump-racist-rhetoric-immigrants-00183537 on URL https://www.politico.com/news/2024/10/12/trump-racist-rhetoric-immigrants-00183537\n",
      "[2024-10-13] Failed to scrape https://www.reuters.com/world/us/kamala-harris-could-join-podcaster-joe-rogan-an-interview-sources-2024-10-15/: Article `download()` failed with 401 Client Error: HTTP Forbidden for url: https://www.reuters.com/world/us/kamala-harris-could-join-podcaster-joe-rogan-an-interview-sources-2024-10-15/ on URL https://www.reuters.com/world/us/kamala-harris-could-join-podcaster-joe-rogan-an-interview-sources-2024-10-15/\n",
      "[2024-10-13] Failed to scrape https://www.washingtonpost.com/elections/2024/10/13/2024-election-campaign-updates-harris-trump/: Article `download()` failed with HTTPSConnectionPool(host='www.washingtonpost.com', port=443): Read timed out. (read timeout=10) on URL https://www.washingtonpost.com/elections/2024/10/13/2024-election-campaign-updates-harris-trump/\n",
      "[2024-10-13] Failed to scrape https://www.usnews.com/news/economy/articles/2024-10-14/economy-proves-resilient-as-2024-election-nears: Article `download()` failed with HTTPSConnectionPool(host='www.usnews.com', port=443): Read timed out. (read timeout=10) on URL https://www.usnews.com/news/economy/articles/2024-10-14/economy-proves-resilient-as-2024-election-nears\n",
      "[2024-10-14] Failed to scrape https://news.columbia.edu/content/national-global-affairs: Article `download()` failed with 403 Client Error: Forbidden for url: https://news.columbia.edu/content/national-global-affairs on URL https://news.columbia.edu/content/national-global-affairs\n",
      "[2024-10-14] Failed to scrape https://am.usembassy.gov/important-information-for-voting-in-the-2024-u-s-elections-15-october-2024/: Article `download()` failed with 404 Client Error: Not Found for url: https://am.usembassy.gov/important-information-for-voting-in-the-2024-u-s-elections-15-october-2024/ on URL https://am.usembassy.gov/important-information-for-voting-in-the-2024-u-s-elections-15-october-2024/\n",
      "[2024-10-14] Failed to scrape https://news.wttw.com/2024/10/15/georgia-voters-cast-record-252000-ballots-first-day-early-voting-battleground-state: Article `download()` failed with 403 Client Error: Forbidden for url: https://news.wttw.com/2024/10/15/georgia-voters-cast-record-252000-ballots-first-day-early-voting-battleground-state on URL https://news.wttw.com/2024/10/15/georgia-voters-cast-record-252000-ballots-first-day-early-voting-battleground-state\n",
      "[2024-10-15] Failed to scrape https://sos.ga.gov/news/georgia-voters-smash-records-first-day-early-voting: Article `download()` failed with 403 Client Error: Forbidden for url: https://sos.ga.gov/news/georgia-voters-smash-records-first-day-early-voting on URL https://sos.ga.gov/news/georgia-voters-smash-records-first-day-early-voting\n",
      "[2024-10-15] Failed to scrape https://www.reuters.com/breakingviews/us-economy-is-partying-voters-are-hungover-2024-10-16/: Article `download()` failed with 401 Client Error: HTTP Forbidden for url: https://www.reuters.com/breakingviews/us-economy-is-partying-voters-are-hungover-2024-10-16/ on URL https://www.reuters.com/breakingviews/us-economy-is-partying-voters-are-hungover-2024-10-16/\n",
      "[2024-10-15] Failed to scrape https://www.washingtonpost.com/elections/2024/10/16/2024-election-campaign-updates-harris-trump/: Article `download()` failed with HTTPSConnectionPool(host='www.washingtonpost.com', port=443): Read timed out. (read timeout=10) on URL https://www.washingtonpost.com/elections/2024/10/16/2024-election-campaign-updates-harris-trump/\n",
      "[2024-10-16] Failed to scrape https://www.spglobal.com/mobility/en/research-analysis/2024-us-presidential-election-automotive-industry.html: Article `download()` failed with 403 Client Error: Forbidden for url: https://www.spglobal.com/mobility/en/research-analysis/2024-us-presidential-election-automotive-industry.html on URL https://www.spglobal.com/mobility/en/research-analysis/2024-us-presidential-election-automotive-industry.html\n",
      "[2024-10-16] Failed to scrape https://pop.psu.edu/news/ask-expert-immigration-and-2024-presidential-election: Article `download()` failed with HTTPSConnectionPool(host='pop.psu.edu', port=443): Max retries exceeded with url: /news/ask-expert-immigration-and-2024-presidential-election (Caused by SSLError(SSLCertVerificationError(1, '[SSL: CERTIFICATE_VERIFY_FAILED] certificate verify failed: unable to get local issuer certificate (_ssl.c:1020)'))) on URL https://pop.psu.edu/news/ask-expert-immigration-and-2024-presidential-election\n",
      "[2024-10-16] Failed to scrape https://www.dogonews.com/2024/10/17/the-us-presidential-election-process-explained: Article `download()` failed with 403 Client Error: Forbidden for url: https://www.dogonews.com/2024/10/17/the-us-presidential-election-process-explained on URL https://www.dogonews.com/2024/10/17/the-us-presidential-election-process-explained\n",
      "[2024-10-16] Failed to scrape https://www.reuters.com/world/us/what-could-happen-if-trump-rejects-us-election-results-2024-10-16/: Article `download()` failed with 401 Client Error: HTTP Forbidden for url: https://www.reuters.com/world/us/what-could-happen-if-trump-rejects-us-election-results-2024-10-16/ on URL https://www.reuters.com/world/us/what-could-happen-if-trump-rejects-us-election-results-2024-10-16/\n",
      "[2024-10-17] Failed to scrape https://www.ipsos.com/en-us/latest-us-opinion-polls: Article `download()` failed with 403 Client Error: Forbidden for url: https://www.ipsos.com/en-us/latest-us-opinion-polls on URL https://www.ipsos.com/en-us/latest-us-opinion-polls\n",
      "[2024-10-17] Failed to scrape https://www.reuters.com/world/us/why-voters-handful-swing-states-will-decide-us-presidential-election-2024-10-17/: Article `download()` failed with 401 Client Error: HTTP Forbidden for url: https://www.reuters.com/world/us/why-voters-handful-swing-states-will-decide-us-presidential-election-2024-10-17/ on URL https://www.reuters.com/world/us/why-voters-handful-swing-states-will-decide-us-presidential-election-2024-10-17/\n",
      "[2024-10-17] Failed to scrape https://www.usnews.com/news/cartoons/2024/10/15/the-presidential-election-the-middle-east-and-halloween-the-week-in-cartoons-oct-14-18: Article `download()` failed with HTTPSConnectionPool(host='www.usnews.com', port=443): Read timed out. (read timeout=10) on URL https://www.usnews.com/news/cartoons/2024/10/15/the-presidential-election-the-middle-east-and-halloween-the-week-in-cartoons-oct-14-18\n",
      "[2024-10-17] Failed to scrape https://www.cisa.gov/news-events/news/fbi-and-cisa-issue-public-service-announcement-warning-tactics-foreign-threat-actors-are-using: Article `download()` failed with HTTPSConnectionPool(host='www.cisa.gov', port=443): Read timed out. (read timeout=10) on URL https://www.cisa.gov/news-events/news/fbi-and-cisa-issue-public-service-announcement-warning-tactics-foreign-threat-actors-are-using\n",
      "[2024-10-18] Failed to scrape https://www.madisoncountyvotesal.gov/: You must `download()` an article first!\n",
      "[2024-10-18] Failed to scrape https://www.ncsl.org/elections-and-campaigns/felon-voting-rights: Article `download()` failed with 403 Client Error: Forbidden for url: https://www.ncsl.org/elections-and-campaigns/felon-voting-rights on URL https://www.ncsl.org/elections-and-campaigns/felon-voting-rights\n",
      "[2024-10-18] Failed to scrape https://www.reuters.com/world/us/large-bets-election-prediction-market-are-overseas-source-says-2024-10-18/: Article `download()` failed with 401 Client Error: HTTP Forbidden for url: https://www.reuters.com/world/us/large-bets-election-prediction-market-are-overseas-source-says-2024-10-18/ on URL https://www.reuters.com/world/us/large-bets-election-prediction-market-are-overseas-source-says-2024-10-18/\n",
      "[2024-10-19] Failed to scrape https://www.reuters.com/world/us/elon-musk-promises-award-1-mln-each-day-signer-his-petition-2024-10-20/: Article `download()` failed with 401 Client Error: HTTP Forbidden for url: https://www.reuters.com/world/us/elon-musk-promises-award-1-mln-each-day-signer-his-petition-2024-10-20/ on URL https://www.reuters.com/world/us/elon-musk-promises-award-1-mln-each-day-signer-his-petition-2024-10-20/\n",
      "[2024-10-19] Failed to scrape https://www.politico.com/news/magazine/2024/10/20/trump-overturn-2024-election-plan-00184103: Article `download()` failed with 403 Client Error: Forbidden for url: https://www.politico.com/news/magazine/2024/10/20/trump-overturn-2024-election-plan-00184103 on URL https://www.politico.com/news/magazine/2024/10/20/trump-overturn-2024-election-plan-00184103\n",
      "[2024-10-19] Failed to scrape https://www.opensecrets.org/pres12: Article `download()` failed with 403 Client Error: Forbidden for url: https://www.opensecrets.org/pres12 on URL https://www.opensecrets.org/pres12\n",
      "[2024-10-19] Failed to scrape https://www.westfordma.gov/CivicAlerts.asp?AID=2169: Article `download()` failed with 404 Client Error: Not Found for url: https://www.westfordma.gov/CivicAlerts.aspx?AID=2169 on URL https://www.westfordma.gov/CivicAlerts.asp?AID=2169\n",
      "[2024-10-19] Failed to scrape https://www.usnews.com/news/top-news/articles/2024-10-20/harris-campaign-reports-spending-270-million-in-sept-well-above-trumps-outlays-of-78-million: Article `download()` failed with HTTPSConnectionPool(host='www.usnews.com', port=443): Read timed out. (read timeout=10) on URL https://www.usnews.com/news/top-news/articles/2024-10-20/harris-campaign-reports-spending-270-million-in-sept-well-above-trumps-outlays-of-78-million\n",
      "[2024-10-19] Failed to scrape https://www.abc4.com/news/politics/election/who-is-lucifer-justin-case-everylove/: Article `download()` failed with 403 Client Error: Forbidden for url: https://www.abc4.com/news/politics/election/who-is-lucifer-justin-case-everylove/ on URL https://www.abc4.com/news/politics/election/who-is-lucifer-justin-case-everylove/\n",
      "[2024-10-20] Failed to scrape https://www.aila.org/library/daily-immigration-news-clips-october-21-2024: Article `download()` failed with 403 Client Error: Forbidden for url: https://www.aila.org:443/daily-immigration-news-clips-october-21-2024 on URL https://www.aila.org/library/daily-immigration-news-clips-october-21-2024\n",
      "[2024-10-20] Failed to scrape https://www.reuters.com/world/us/new-cases-political-violence-roil-us-ahead-contentious-election-2024-10-21/: Article `download()` failed with 401 Client Error: HTTP Forbidden for url: https://www.reuters.com/world/us/new-cases-political-violence-roil-us-ahead-contentious-election-2024-10-21/ on URL https://www.reuters.com/world/us/new-cases-political-violence-roil-us-ahead-contentious-election-2024-10-21/\n",
      "[2024-10-20] Failed to scrape https://www.spglobal.com/commodityinsights/en/market-insights/latest-news/agriculture/102124-us-elections-new-president-to-take-office-amid-low-agricultural-prices-falling-farm-incomes: Article `download()` failed with 403 Client Error: Forbidden for url: https://www.spglobal.com/commodityinsights/en/market-insights/latest-news/agriculture/102124-us-elections-new-president-to-take-office-amid-low-agricultural-prices-falling-farm-incomes on URL https://www.spglobal.com/commodityinsights/en/market-insights/latest-news/agriculture/102124-us-elections-new-president-to-take-office-amid-low-agricultural-prices-falling-farm-incomes\n",
      "[2024-10-20] Failed to scrape https://www.politico.com/news/magazine/2024/10/21/fox-news-decision-desk-2024-election-00184396: Article `download()` failed with 403 Client Error: Forbidden for url: https://www.politico.com/news/magazine/2024/10/21/fox-news-decision-desk-2024-election-00184396 on URL https://www.politico.com/news/magazine/2024/10/21/fox-news-decision-desk-2024-election-00184396\n",
      "[2024-10-20] Failed to scrape https://sos.ga.gov/news/georgia-voters-continue-turning-out-force-day-7-early-voting: Article `download()` failed with 403 Client Error: Forbidden for url: https://sos.ga.gov/news/georgia-voters-continue-turning-out-force-day-7-early-voting on URL https://sos.ga.gov/news/georgia-voters-continue-turning-out-force-day-7-early-voting\n",
      "[2024-10-21] Failed to scrape https://news.rice.edu/news/2024/succinct-review-american-history-storied-political-campaign-button-collection-donated: Article `download()` failed with 406 Client Error: Not Acceptable for url: https://news.rice.edu/news/2024/succinct-review-american-history-storied-political-campaign-button-collection-donated on URL https://news.rice.edu/news/2024/succinct-review-american-history-storied-political-campaign-button-collection-donated\n",
      "[2024-10-22] Failed to scrape https://alumni.oswego.edu/?sid=1552&gid=1&pgid=5283&cid=9373&ecid=9373&crid=0&calpgid=13&calcid=664: Article `download()` failed with 403 Client Error: Forbidden for url: https://alumni.oswego.edu/?sid=1552&gid=1&pgid=5283&cid=9373&ecid=9373&crid=0&calpgid=13&calcid=664 on URL https://alumni.oswego.edu/?sid=1552&gid=1&pgid=5283&cid=9373&ecid=9373&crid=0&calpgid=13&calcid=664\n",
      "[2024-10-23] Failed to scrape https://standard.asl.org/32023/features/non-u-s-citizens-share-outlook-on-u-s-presidential-election/: Article `download()` failed with 403 Client Error: Forbidden for url: https://standard.asl.org/32023/features/non-u-s-citizens-share-outlook-on-u-s-presidential-election/ on URL https://standard.asl.org/32023/features/non-u-s-citizens-share-outlook-on-u-s-presidential-election/\n",
      "[2024-10-23] Failed to scrape https://www.reuters.com/world/us/harris-hold-cnn-town-hall-wednesday-trump-rallies-georgia-2024-10-23/: Article `download()` failed with 401 Client Error: HTTP Forbidden for url: https://www.reuters.com/world/us/harris-hold-cnn-town-hall-wednesday-trump-rallies-georgia-2024-10-23/ on URL https://www.reuters.com/world/us/harris-hold-cnn-town-hall-wednesday-trump-rallies-georgia-2024-10-23/\n",
      "[2024-10-24] Failed to scrape https://news.rice.edu/news/2024/rice-historians-offer-perspectives-context-2024-presidential-election: Article `download()` failed with 406 Client Error: Not Acceptable for url: https://news.rice.edu/news/2024/rice-historians-offer-perspectives-context-2024-presidential-election on URL https://news.rice.edu/news/2024/rice-historians-offer-perspectives-context-2024-presidential-election\n",
      "[2024-10-24] Failed to scrape https://www.opensecrets.org/news/2024/10/musk-is-placing-a-high-bet-on-the-presidential-election/: Article `download()` failed with 403 Client Error: Forbidden for url: https://www.opensecrets.org/news/2024/10/musk-is-placing-a-high-bet-on-the-presidential-election/ on URL https://www.opensecrets.org/news/2024/10/musk-is-placing-a-high-bet-on-the-presidential-election/\n",
      "[2024-10-24] Failed to scrape https://www.reuters.com/world/us/why-we-may-not-know-winner-us-presidential-election-nov-5-2024-10-25/: Article `download()` failed with 401 Client Error: HTTP Forbidden for url: https://www.reuters.com/world/us/why-we-may-not-know-winner-us-presidential-election-nov-5-2024-10-25/ on URL https://www.reuters.com/world/us/why-we-may-not-know-winner-us-presidential-election-nov-5-2024-10-25/\n",
      "[2024-10-24] Failed to scrape https://www.france24.com/en/tv-shows/revisited/20241025-us-presidential-election-four-years-of-denial-in-arizona: Article `download()` failed with 403 Client Error: Forbidden for url: https://www.france24.com/en/tv-shows/revisited/20241025-us-presidential-election-four-years-of-denial-in-arizona on URL https://www.france24.com/en/tv-shows/revisited/20241025-us-presidential-election-four-years-of-denial-in-arizona\n",
      "[2024-10-25] Failed to scrape https://www.washingtonpost.com/style/media/2024/10/25/washington-post-endorsement-president/: Article `download()` failed with HTTPSConnectionPool(host='www.washingtonpost.com', port=443): Read timed out. (read timeout=10) on URL https://www.washingtonpost.com/style/media/2024/10/25/washington-post-endorsement-president/\n",
      "[2024-10-25] Failed to scrape https://www.cisa.gov/topics/election-security/election-threat-updates: Article `download()` failed with HTTPSConnectionPool(host='www.cisa.gov', port=443): Read timed out. (read timeout=10) on URL https://www.cisa.gov/topics/election-security/election-threat-updates\n",
      "[2024-10-26] Failed to scrape https://news.web.baylor.edu/news/story/2024/baylor-news-oct-20-26-2024: Article `download()` failed with 403 Client Error: Forbidden for url: https://news.web.baylor.edu/news/story/2024/baylor-news-oct-20-26-2024 on URL https://news.web.baylor.edu/news/story/2024/baylor-news-oct-20-26-2024\n",
      "[2024-10-26] Failed to scrape https://www.ipsos.com/en-us/presidential-race-remains-close: Article `download()` failed with 403 Client Error: Forbidden for url: https://www.ipsos.com/en-us/presidential-race-remains-close on URL https://www.ipsos.com/en-us/presidential-race-remains-close\n",
      "[2024-10-26] Failed to scrape https://www.reuters.com/world/global-economy-chiefs-fret-over-trump-return-us-election-draws-closer-2024-10-28/: Article `download()` failed with 401 Client Error: HTTP Forbidden for url: https://www.reuters.com/world/global-economy-chiefs-fret-over-trump-return-us-election-draws-closer-2024-10-28/ on URL https://www.reuters.com/world/global-economy-chiefs-fret-over-trump-return-us-election-draws-closer-2024-10-28/\n",
      "[2024-10-26] Failed to scrape https://www.usnews.com/news/world/articles/2024-10-27/republican-battleground-state-legal-blitz-falters-ahead-of-us-presidential-election: Article `download()` failed with HTTPSConnectionPool(host='www.usnews.com', port=443): Read timed out. (read timeout=10) on URL https://www.usnews.com/news/world/articles/2024-10-27/republican-battleground-state-legal-blitz-falters-ahead-of-us-presidential-election\n"
     ]
    }
   ],
   "source": [
    "# %%script false --no-raise-error\n",
    "for filename in sorted(glob.glob('../news_links/data/search_results_*.csv')):\n",
    "    TS = re.search(r'_(\\d+\\.\\d+)\\.', filename).group(1)\n",
    "    if os.path.exists(f'./data/newsdata_{TS}.json'):    continue\n",
    "\n",
    "    clear_output()\n",
    "    print(f\"Processing: {filename}\")\n",
    "    results_df = pd.read_csv(filename, sep='|').fillna('').drop_duplicates(subset='link')\n",
    "    raw = results_df.progress_apply(scrape_article, axis=1).tolist()\n",
    "    data = [item for item in raw if 'source_url' in item.keys()]\n",
    "    redo = [item for item in raw if 'source_url' not in item.keys()]\n",
    "    with open(f'./data/newsdata_{TS}.json', 'w') as f:\n",
    "        json.dump(data, f, indent=4, sort_keys=True)\n",
    "    pd.DataFrame(redo).to_csv(f'./redo/search_results_{TS}.csv', sep='|', index=False)\n",
    "    time.sleep(10)"
   ]
  }
 ],
 "metadata": {
  "accelerator": "GPU",
  "colab": {
   "collapsed_sections": [
    "2jP2eLoGYX4D",
    "c8ejA8gqYX4F",
    "nTjuwikcYX4F"
   ],
   "gpuType": "T4",
   "provenance": []
  },
  "kernelspec": {
   "display_name": "Python 3",
   "name": "python3"
  },
  "language_info": {
   "codemirror_mode": {
    "name": "ipython",
    "version": 3
   },
   "file_extension": ".py",
   "mimetype": "text/x-python",
   "name": "python",
   "nbconvert_exporter": "python",
   "pygments_lexer": "ipython3",
   "version": "3.13.0"
  }
 },
 "nbformat": 4,
 "nbformat_minor": 0
}
