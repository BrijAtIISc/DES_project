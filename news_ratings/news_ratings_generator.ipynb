{
 "cells": [
  {
   "cell_type": "code",
   "execution_count": null,
   "metadata": {
    "id": "_-mFGiW-__l3"
   },
   "outputs": [],
   "source": [
    "import os\n",
    "import time\n",
    "import random\n",
    "import glob\n",
    "import re\n",
    "import json\n",
    "import groq\n",
    "import torch\n",
    "import warnings\n",
    "import traceback\n",
    "import pandas as pd\n",
    "import local_settings as S\n",
    "from transformers import pipeline\n",
    "from tqdm import tqdm"
   ]
  },
  {
   "cell_type": "code",
   "execution_count": null,
   "metadata": {
    "id": "FLwBbY4GBVj8"
   },
   "outputs": [],
   "source": [
    "# Constants\n",
    "LLM_MODEL = \"llama-3.2-90b-text-preview\"\n",
    "DEVICE = torch.device('cuda' if torch.cuda.is_available() else 'cpu')"
   ]
  },
  {
   "cell_type": "code",
   "execution_count": null,
   "metadata": {
    "id": "s3b7PyN5_tw5"
   },
   "outputs": [],
   "source": [
    "summarizer = pipeline(\"summarization\", device=DEVICE)\n",
    "warnings.filterwarnings(\"ignore\", category=UserWarning, module=\"transformers\")\n",
    "def get_summary(text):\n",
    "    summary = summarizer(text, truncation=True, max_length=500, min_length=100, do_sample=True, temperature=0.3)\n",
    "    return summary[0]['summary_text']"
   ]
  },
  {
   "cell_type": "code",
   "execution_count": null,
   "metadata": {},
   "outputs": [],
   "source": [
    "class RanOutOfGroqAPIKeys(Exception):\n",
    "    pass\n",
    "\n",
    "class GroqAPI:\n",
    "    keychain = S.GROQ_API_KEYS\n",
    "    current_key = 0\n",
    "    client = groq.Groq(api_key=keychain[current_key])\n",
    "\n",
    "\n",
    "    @classmethod\n",
    "    def rotate_key(cls):\n",
    "        for key in range(cls.current_key+1, len(cls.keychain)):\n",
    "            cls.current_key = key\n",
    "            cls.client = groq.Groq(api_key=cls.keychain[cls.current_key])\n",
    "            print(f\"Rotated to KEY[{cls.current_key}]\")\n",
    "            return\n",
    "        raise RanOutOfGroqAPIKeys(\"All keys are invalid.\")\n",
    "\n",
    "\n",
    "    @classmethod\n",
    "    def query(cls, **kwargs):\n",
    "        while True:\n",
    "            try:\n",
    "                completion = cls.client.chat.completions.create(**kwargs)\n",
    "                return completion\n",
    "            except groq.RateLimitError as e:\n",
    "                print(\"A [429] status code was received; we should back off a bit.\")\n",
    "                cls.rotate_key()\n",
    "            except groq.APIStatusError as e:\n",
    "                print(f\"A [{e.status_code}] status code was received:\")\n",
    "                print(e.response)\n",
    "                cls.rotate_key()\n",
    "            except groq.APIConnectionError as e:\n",
    "                print(\"The server could not be reached.\")\n",
    "                print(e.__cause__)"
   ]
  },
  {
   "cell_type": "code",
   "execution_count": null,
   "metadata": {
    "id": "kz3HCY8H_tty"
   },
   "outputs": [],
   "source": [
    "def get_favourability_ratings(text):\n",
    "    completion = GroqAPI.query(\n",
    "        model=LLM_MODEL,\n",
    "        messages=[\n",
    "            {\n",
    "                \"role\": \"system\",\n",
    "                \"content\": (\n",
    "                    \"You are an expert political analyst. Read the text provided by the user. \"\n",
    "                    \"Describe how favourable is it to democrats, and to republicans, in under 50 words. \"\n",
    "                    \"Also provide two scores on a scale of -5 to +5, quantifying this favourability to the two parties \"\n",
    "                    \"in a JSON format with two keys \\\"democrats\\\" & \\\"republicans\\\".\"\n",
    "                )\n",
    "            },\n",
    "            {\n",
    "                \"role\": \"user\",\n",
    "                \"content\": text\n",
    "            }\n",
    "        ],\n",
    "        temperature=0.25,\n",
    "        max_tokens=512,\n",
    "        top_p=1,\n",
    "        stream=False,\n",
    "        stop=None,\n",
    "    )\n",
    "    explanation_with_ratings = completion.choices[0].message.content\n",
    "    return explanation_with_ratings, completion.usage"
   ]
  },
  {
   "cell_type": "code",
   "execution_count": null,
   "metadata": {
    "id": "A7USQWvt_toC"
   },
   "outputs": [],
   "source": [
    "def find_json_objects(input_string):\n",
    "    json_pattern = r'\\{.*?\\}'\n",
    "    potential_jsons = re.findall(json_pattern, input_string, re.DOTALL)\n",
    "    valid_jsons = []\n",
    "    for json_str in potential_jsons:\n",
    "        try:\n",
    "            json_obj = json.loads(json_str)\n",
    "            valid_jsons.append(json_obj)\n",
    "        except json.JSONDecodeError:\n",
    "            continue\n",
    "    return valid_jsons"
   ]
  },
  {
   "cell_type": "code",
   "execution_count": null,
   "metadata": {
    "id": "ZSqrJFwrOpTJ"
   },
   "outputs": [],
   "source": [
    "def generate_ratings(article):\n",
    "    try:\n",
    "        summary = get_summary(article['text'])\n",
    "        explanation_with_ratings, usage = get_favourability_ratings(summary)\n",
    "        ratings = find_json_objects(explanation_with_ratings)[0]\n",
    "        article['summary'] = summary\n",
    "        article['explanation'] = explanation_with_ratings\n",
    "        article['groq_usage'] = str(usage)\n",
    "        article['rating_democrats'] = ratings['democrats']\n",
    "        article['rating_republicans'] = ratings['republicans']\n",
    "        return article\n",
    "    except Exception as e:\n",
    "        print('Failed to generate ratings:', e)\n",
    "        traceback.print_exc()\n",
    "        return article"
   ]
  },
  {
   "cell_type": "code",
   "execution_count": null,
   "metadata": {},
   "outputs": [],
   "source": [
    "for filename in sorted(glob.glob('../news_data/data/newsdata_*.json')):\n",
    "    TS = re.search(r'_(\\d+\\.\\d+)\\.', filename).group(1)\n",
    "    if os.path.exists(f'./data/ratings_{TS}.json'):    continue\n",
    "\n",
    "    print(f\"Processing: {filename}\")\n",
    "    data = json.load(open(filename))\n",
    "    raw = list(tqdm(map(generate_ratings, data), total=len(data)))\n",
    "    rated = [item for item in raw if 'rating_republicans' in item.keys()]\n",
    "    redo = [item for item in raw if 'rating_republicans' not in item.keys()]\n",
    "    with open(f'./data/ratings_{TS}.json', 'w') as f:\n",
    "        json.dump(rated, f, indent=4, sort_keys=True)\n",
    "    with open(f'./redo/newsdata_{TS}.json', 'w') as f:\n",
    "        json.dump(redo, f, indent=4, sort_keys=True)\n",
    "    break"
   ]
  }
 ],
 "metadata": {
  "colab": {
   "provenance": []
  },
  "kernelspec": {
   "display_name": "Python 3",
   "name": "python3"
  },
  "language_info": {
   "codemirror_mode": {
    "name": "ipython",
    "version": 3
   },
   "file_extension": ".py",
   "mimetype": "text/x-python",
   "name": "python",
   "nbconvert_exporter": "python",
   "pygments_lexer": "ipython3",
   "version": "3.9.6"
  }
 },
 "nbformat": 4,
 "nbformat_minor": 0
}
