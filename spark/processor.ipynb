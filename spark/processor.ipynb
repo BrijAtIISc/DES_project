{
 "cells": [
  {
   "cell_type": "markdown",
   "metadata": {},
   "source": [
    "# Environment Setup"
   ]
  },
  {
   "cell_type": "code",
   "execution_count": 1,
   "metadata": {},
   "outputs": [],
   "source": [
    "import glob\n",
    "import json\n",
    "import numpy as np\n",
    "import pandas as pd\n",
    "import matplotlib.pyplot as plt\n",
    "import seaborn as sns\n",
    "from datetime import datetime\n",
    "\n",
    "from pyspark import SparkContext, SparkConf\n",
    "from pyspark.sql import SparkSession, functions as F, types as T, Window as W"
   ]
  },
  {
   "cell_type": "code",
   "execution_count": 2,
   "metadata": {},
   "outputs": [
    {
     "name": "stderr",
     "output_type": "stream",
     "text": [
      "Setting default log level to \"WARN\".\n",
      "To adjust logging level use sc.setLogLevel(newLevel). For SparkR, use setLogLevel(newLevel).\n",
      "24/12/07 08:04:57 WARN NativeCodeLoader: Unable to load native-hadoop library for your platform... using builtin-java classes where applicable\n"
     ]
    }
   ],
   "source": [
    "# Set up the Spark configuration and context\n",
    "conf = SparkConf().setAppName(\"MyApp\").setMaster(\"local[*]\")\n",
    "sc = SparkContext(conf=conf)\n",
    "\n",
    "# Set up the Spark session\n",
    "spark = SparkSession.builder \\\n",
    "    .appName(\"BatchProcessor\") \\\n",
    "    .config(\"spark.driver.extraJavaOptions\", \"-Xss4m\") \\\n",
    "    .config(\"spark.executor.extraJavaOptions\", \"-Xss4m\") \\\n",
    "    .getOrCreate()"
   ]
  },
  {
   "cell_type": "markdown",
   "metadata": {},
   "source": [
    "# Data Preparation"
   ]
  },
  {
   "cell_type": "code",
   "execution_count": 3,
   "metadata": {},
   "outputs": [
    {
     "name": "stderr",
     "output_type": "stream",
     "text": [
      "                                                                                \r"
     ]
    },
    {
     "name": "stdout",
     "output_type": "stream",
     "text": [
      "+--------------------+-------------------+--------------------+-------------------+-------------------+--------------------+--------------------+--------------------+--------------------+----------------+------------------+--------------------+--------------------+--------------------+--------------------+--------------------+\n",
      "|             authors|        date_google|       date_metadata|     date_published|        date_target|         description|         explanation|          groq_usage|            metadata|rating_democrats|rating_republicans|          source_url|             summary|                text|               title|                 url|\n",
      "+--------------------+-------------------+--------------------+-------------------+-------------------+--------------------+--------------------+--------------------+--------------------+----------------+------------------+--------------------+--------------------+--------------------+--------------------+--------------------+\n",
      "|                  []|2024-08-22T10:28:41| 2024-08-22T10:28:41|               NULL|2024-02-10T00:00:00|The News Literacy...|This text is neut...|CompletionUsage(c...|{article -> {\"mod...|             1.0|               0.0| https://newslit.org| The Misinformati...|Election 2024: Be...|Election 2024: Be...|https://newslit.o...|\n",
      "|                  []|               NULL|                NULL|               NULL|2024-02-10T00:00:00|The US presidenti...|This text is high...|CompletionUsage(c...|{description -> T...|             4.0|              -4.0| https://www.bbc.com| Trump says he wo...|Trump says he wou...|Trump says he wou...|https://www.bbc.c...|\n",
      "|      [Simone Pathe]|2024-02-10T10:30:29|2024-02-10T10:30:...|2024-02-10T00:00:00|2024-02-10T00:00:00|It won’t suck up ...|The text is sligh...|CompletionUsage(c...|{article -> {\"mod...|             2.0|              -1.0| https://www.cnn.com| The race for the...|Why the race for ...|Why the race for ...|https://www.cnn.c...|\n",
      "|    [Edward Helmore]|2024-02-12T14:29:40| 2024-02-12T14:29:40|2024-02-11T00:00:00|2024-02-10T00:00:00|The Joe Biden Whi...|This text is high...|CompletionUsage(c...|{al -> {\"ios\":{\"a...|             2.0|              -4.0|https://www.thegu...| Trump says he wo...|Trump says he wou...|Trump says he wou...|https://www.thegu...|\n",
      "|[Lawless Is An As...|2024-02-11T05:04:32| 2024-02-11T05:04:32|2024-02-11T05:04:32|2024-02-10T00:00:00|With a divided el...|This text is unfa...|CompletionUsage(c...|{article -> {\"aut...|             1.0|              -3.0|  https://apnews.com| Many worry that ...|Allies fear the U...|Allies fear the U...|https://apnews.co...|\n",
      "+--------------------+-------------------+--------------------+-------------------+-------------------+--------------------+--------------------+--------------------+--------------------+----------------+------------------+--------------------+--------------------+--------------------+--------------------+--------------------+\n",
      "only showing top 5 rows\n",
      "\n"
     ]
    }
   ],
   "source": [
    "schema = T.StructType([\n",
    "    T.StructField(\"authors\", T.ArrayType(T.StringType()), True),\n",
    "    T.StructField(\"date_google\", T.StringType(), True),\n",
    "    T.StructField(\"date_metadata\", T.StringType(), True),\n",
    "    T.StructField(\"date_published\", T.StringType(), True),\n",
    "    T.StructField(\"date_target\", T.StringType(), True),\n",
    "    T.StructField(\"description\", T.StringType(), True),\n",
    "    T.StructField(\"explanation\", T.StringType(), True),\n",
    "    T.StructField(\"groq_usage\", T.StringType(), True),\n",
    "    T.StructField(\"metadata\", T.MapType(T.StringType(), T.StringType()), True),\n",
    "    T.StructField(\"rating_democrats\", T.FloatType(), True),\n",
    "    T.StructField(\"rating_republicans\", T.FloatType(), True),\n",
    "    T.StructField(\"source_url\", T.StringType(), True),\n",
    "    T.StructField(\"summary\", T.StringType(), True),\n",
    "    T.StructField(\"text\", T.StringType(), True),\n",
    "    T.StructField(\"title\", T.StringType(), True),\n",
    "    T.StructField(\"url\", T.StringType(), True)\n",
    "])\n",
    "news_df = spark.read.option(\"multiline\", \"true\").json(\"../news_ratings/data/\", schema=schema)\n",
    "news_df.show(n=5)"
   ]
  },
  {
   "cell_type": "code",
   "execution_count": 4,
   "metadata": {},
   "outputs": [
    {
     "name": "stderr",
     "output_type": "stream",
     "text": [
      "                                                                                \r"
     ]
    },
    {
     "name": "stdout",
     "output_type": "stream",
     "text": [
      "+------+-------------------+------------------+------------------+------------------+------------------+------------------+-----------+\n",
      "|Ticker|               Date|              Open|              High|               Low|             Close|         Adj Close|     Volume|\n",
      "+------+-------------------+------------------+------------------+------------------+------------------+------------------+-----------+\n",
      "|  COIN|2023-11-16 14:30:00| 97.68000030517578| 97.79000091552734| 95.04000091552734| 97.01000213623047| 97.01000213623047|  2528149.0|\n",
      "|   XOM|2023-11-16 14:30:00| 102.9000015258789| 103.2699966430664|101.98999786376953|102.37999725341797|102.37999725341797|  4463991.0|\n",
      "| ^GSPC|2023-11-16 14:30:00|    4497.080078125|    4511.990234375|   4495.7001953125|           4505.75|           4505.75|        0.0|\n",
      "|   SPY|2023-11-16 14:30:00| 449.2200012207031|450.55999755859375| 449.1300048828125|449.95001220703125|449.95001220703125|1.0474895E7|\n",
      "|   XLI|2023-11-16 14:30:00|105.02999877929688| 105.5199966430664|104.91000366210938|105.04000091552734|105.04000091552734|  1876827.0|\n",
      "+------+-------------------+------------------+------------------+------------------+------------------+------------------+-----------+\n",
      "only showing top 5 rows\n",
      "\n"
     ]
    }
   ],
   "source": [
    "market_df = spark.read.csv(\"../stocks_data/ticker_data.csv\", header=True, inferSchema=True)\n",
    "market_df.show(n=5)"
   ]
  },
  {
   "cell_type": "markdown",
   "metadata": {},
   "source": [
    "# Data Pre-processing"
   ]
  },
  {
   "cell_type": "code",
   "execution_count": 5,
   "metadata": {},
   "outputs": [],
   "source": [
    "start_time = datetime(2024, 1, 1)\n",
    "end_time = datetime(2024, 12, 1)"
   ]
  },
  {
   "cell_type": "code",
   "execution_count": 6,
   "metadata": {},
   "outputs": [
    {
     "name": "stdout",
     "output_type": "stream",
     "text": [
      "+-------------------+-----------+----------------+------------------+--------------------+--------------------+--------------------+\n",
      "|       published_at|date_target|rating_democrats|rating_republicans|               title|             summary|                 url|\n",
      "+-------------------+-----------+----------------+------------------+--------------------+--------------------+--------------------+\n",
      "|2024-02-14 22:16:42| 2024-02-13|             4.0|              -3.0|New York special ...| Democrat Tom Suo...|https://www.thegu...|\n",
      "|2024-02-15 03:46:44| 2024-02-13|             0.0|               0.0|Prabowo Subianto ...| Prabowo Subianto...|https://www.aljaz...|\n",
      "|2024-04-29 19:13:08| 2024-02-22|             1.0|              -1.0|US Troops to Stay...| There have been ...|https://arabcente...|\n",
      "|2024-02-24 04:21:17| 2024-02-23|             0.0|              -2.0|February 23 - 202...| South Carolina s...|https://www.cnn.c...|\n",
      "|2024-02-26 18:00:00| 2024-02-25|             2.0|              -2.0|Trump allies decl...| More than 50 per...|https://www.abc.n...|\n",
      "+-------------------+-----------+----------------+------------------+--------------------+--------------------+--------------------+\n",
      "only showing top 5 rows\n",
      "\n"
     ]
    },
    {
     "name": "stderr",
     "output_type": "stream",
     "text": [
      "                                                                                \r"
     ]
    }
   ],
   "source": [
    "news_df = news_df.withColumn(\"published_at\", F.coalesce(\"date_google\", \"date_metadata\", \"date_published\")) \\\n",
    "    .withColumn(\"published_at\", F.to_timestamp(\"published_at\")) \\\n",
    "    .withColumn(\"date_target\", F.to_date(\"date_target\"))\n",
    "news_df = news_df.select('published_at', 'date_target', 'rating_democrats', 'rating_republicans', 'title', 'summary', 'url')\n",
    "news_df = news_df.na.drop(subset=[\"published_at\"])\n",
    "news_df.sample(fraction=0.01, seed=1947).show(n=5)"
   ]
  },
  {
   "cell_type": "code",
   "execution_count": 7,
   "metadata": {},
   "outputs": [],
   "source": [
    "market_df = (\n",
    "    market_df\n",
    "    .filter(F.col(\"Date\") > start_time)\n",
    "    .filter(F.col(\"Date\") < end_time)\n",
    "    .filter(F.col(\"Ticker\").isin([\"JPM\"]))\n",
    "    .withColumn(\"hour_bucket\", F.date_trunc(\"hour\", F.col(\"Date\")))\n",
    "    .repartition(\"Ticker\")\n",
    ")\n",
    "news_df = (\n",
    "    news_df\n",
    "    .filter(F.col(\"published_at\") > start_time)\n",
    "    .filter(F.col(\"published_at\") < end_time)\n",
    "    .withColumn(\"hour_bucket\", F.date_trunc(\"hour\", F.col(\"published_at\")))\n",
    ")\n",
    "hours_df = (\n",
    "    spark.createDataFrame([(start_time, end_time)], [\"start_time\", \"end_time\"])\n",
    "    .select(F.explode(F.sequence(F.col(\"start_time\"), F.col(\"end_time\"), F.expr(\"INTERVAL 1 HOUR\"))).alias(\"hour_bucket\"))\n",
    ")\n",
    "tickers_df = market_df.select(\"Ticker\").distinct()"
   ]
  },
  {
   "cell_type": "code",
   "execution_count": 8,
   "metadata": {},
   "outputs": [],
   "source": [
    "market_df = hours_df.crossJoin(tickers_df).join(market_df, on=[\"hour_bucket\", \"Ticker\"], how=\"left\")\n",
    "news_df = hours_df.join(news_df, on=\"hour_bucket\", how=\"left\")"
   ]
  },
  {
   "cell_type": "markdown",
   "metadata": {},
   "source": [
    "# Feature Engineering"
   ]
  },
  {
   "cell_type": "code",
   "execution_count": 9,
   "metadata": {},
   "outputs": [],
   "source": [
    "time_windows = [\n",
    "    # 6,      # 6 hours\n",
    "    # 12,     # 12 hours\n",
    "    24,     # 1 day\n",
    "    7*24,   # 1 week\n",
    "    14*24,  # 2 weeks\n",
    "    # 28*24,  # 4 weeks\n",
    "]\n",
    "# --------------------\n",
    "statistics = [\n",
    "    \"count\",\n",
    "    \"mean\",\n",
    "    # \"std\",\n",
    "    # \"min\",\n",
    "    # \"max\",\n",
    "    \"spread\",\n",
    "]\n",
    "# --------------------\n",
    "ticker_cols = [\n",
    "    \"Open\",\n",
    "    \"High\",\n",
    "    \"Low\",\n",
    "    \"Close\",\n",
    "    \"Adj Close\",\n",
    "    # \"Volume\"\n",
    "]\n",
    "# --------------------\n",
    "news_cols = [\n",
    "    \"rating_republicans\",\n",
    "    \"rating_democrats\",\n",
    "]"
   ]
  },
  {
   "cell_type": "code",
   "execution_count": 10,
   "metadata": {},
   "outputs": [],
   "source": [
    "def calculate_rolling_stats(df, cols, partition_col=None):\n",
    "    stat_exprs = []\n",
    "    if partition_col:   stat_exprs.append(F.col(partition_col))\n",
    "    for window_hours in time_windows:\n",
    "        window_spec = (\n",
    "            W\n",
    "            .partitionBy(partition_col if partition_col else [])\n",
    "            .orderBy(F.col(\"hour_bucket\").cast(\"timestamp\").cast(\"long\"))\n",
    "            .rangeBetween(-1 * window_hours * 3600, 0)\n",
    "        )\n",
    "        for col in cols:\n",
    "            for stat in statistics:\n",
    "                field_name = f\"rolling_{window_hours}h_{col}_{stat}\"\n",
    "                if   stat == \"count\":   stat_exprs.append(F.count(col).over(window_spec).alias(field_name))\n",
    "                elif stat == \"mean\":    stat_exprs.append(F.mean(col).over(window_spec).alias(field_name))\n",
    "                elif stat == \"std\":     stat_exprs.append(F.stddev(col).over(window_spec).alias(field_name))\n",
    "                elif stat == \"min\":     stat_exprs.append(F.min(col).over(window_spec).alias(field_name))\n",
    "                elif stat == \"max\":     stat_exprs.append(F.max(col).over(window_spec).alias(field_name))\n",
    "                elif stat == \"median\":  stat_exprs.append(F.approx_percentile(col, 0.5, 10).over(window_spec).alias(field_name))\n",
    "                elif stat == \"spread\":  stat_exprs.append((F.max(col).over(window_spec) - F.min(col).over(window_spec)).alias(field_name))\n",
    "                else: raise ValueError(f\"Unknown statistic: {stat}\")\n",
    "    \n",
    "    # Compute all statistics for the current column and window\n",
    "    result_df = df.select(\"hour_bucket\", *stat_exprs).distinct()\n",
    "\n",
    "    return result_df"
   ]
  },
  {
   "cell_type": "code",
   "execution_count": 11,
   "metadata": {},
   "outputs": [
    {
     "name": "stderr",
     "output_type": "stream",
     "text": [
      "24/12/07 08:05:13 WARN SparkStringUtils: Truncated the string representation of a plan since it was too large. This behavior can be adjusted by setting 'spark.sql.debug.maxToStringFields'.\n",
      "24/12/07 08:05:14 WARN WindowExec: No Partition Defined for Window operation! Moving all data to a single partition, this can cause serious performance degradation.\n",
      "24/12/07 08:05:14 WARN WindowExec: No Partition Defined for Window operation! Moving all data to a single partition, this can cause serious performance degradation.\n"
     ]
    }
   ],
   "source": [
    "# %%script false --no-raise-error\n",
    "market_rollstats_df = calculate_rolling_stats(market_df, ticker_cols, \"Ticker\").cache()\n",
    "news_rollstats_df = calculate_rolling_stats(news_df, news_cols).cache()"
   ]
  },
  {
   "cell_type": "code",
   "execution_count": 12,
   "metadata": {},
   "outputs": [
    {
     "name": "stderr",
     "output_type": "stream",
     "text": [
      "24/12/07 08:05:16 WARN WindowExec: No Partition Defined for Window operation! Moving all data to a single partition, this can cause serious performance degradation.\n",
      "24/12/07 08:05:16 WARN WindowExec: No Partition Defined for Window operation! Moving all data to a single partition, this can cause serious performance degradation.\n",
      "/Library/Frameworks/Python.framework/Versions/3.13/lib/python3.13/site-packages/pyspark/python/lib/pyspark.zip/pyspark/daemon.py:154: DeprecationWarning: This process (pid=54988) is multi-threaded, use of fork() may lead to deadlocks in the child.\n",
      "24/12/07 08:05:18 WARN WindowExec: No Partition Defined for Window operation! Moving all data to a single partition, this can cause serious performance degradation.\n",
      "24/12/07 08:05:18 WARN WindowExec: No Partition Defined for Window operation! Moving all data to a single partition, this can cause serious performance degradation.\n",
      "[Stage 8:>                                                          (0 + 1) / 1]\r"
     ]
    },
    {
     "name": "stdout",
     "output_type": "stream",
     "text": [
      "+-------------------+------------------------------------+-----------------------------------+-------------------------------------+----------------------------------+---------------------------------+-----------------------------------+-------------------------------------+------------------------------------+--------------------------------------+-----------------------------------+----------------------------------+------------------------------------+-------------------------------------+------------------------------------+--------------------------------------+-----------------------------------+----------------------------------+------------------------------------+\n",
      "|        hour_bucket|rolling_24h_rating_republicans_count|rolling_24h_rating_republicans_mean|rolling_24h_rating_republicans_spread|rolling_24h_rating_democrats_count|rolling_24h_rating_democrats_mean|rolling_24h_rating_democrats_spread|rolling_168h_rating_republicans_count|rolling_168h_rating_republicans_mean|rolling_168h_rating_republicans_spread|rolling_168h_rating_democrats_count|rolling_168h_rating_democrats_mean|rolling_168h_rating_democrats_spread|rolling_336h_rating_republicans_count|rolling_336h_rating_republicans_mean|rolling_336h_rating_republicans_spread|rolling_336h_rating_democrats_count|rolling_336h_rating_democrats_mean|rolling_336h_rating_democrats_spread|\n",
      "+-------------------+------------------------------------+-----------------------------------+-------------------------------------+----------------------------------+---------------------------------+-----------------------------------+-------------------------------------+------------------------------------+--------------------------------------+-----------------------------------+----------------------------------+------------------------------------+-------------------------------------+------------------------------------+--------------------------------------+-----------------------------------+----------------------------------+------------------------------------+\n",
      "|2024-01-01 05:00:00|                                   1|                               -1.0|                                  0.0|                                 1|                              2.0|                                0.0|                                    1|                                -1.0|                                   0.0|                                  1|                               2.0|                                 0.0|                                    1|                                -1.0|                                   0.0|                                  1|                               2.0|                                 0.0|\n",
      "|2024-01-01 06:00:00|                                   1|                               -1.0|                                  0.0|                                 1|                              2.0|                                0.0|                                    1|                                -1.0|                                   0.0|                                  1|                               2.0|                                 0.0|                                    1|                                -1.0|                                   0.0|                                  1|                               2.0|                                 0.0|\n",
      "|2024-01-01 07:00:00|                                   1|                               -1.0|                                  0.0|                                 1|                              2.0|                                0.0|                                    1|                                -1.0|                                   0.0|                                  1|                               2.0|                                 0.0|                                    1|                                -1.0|                                   0.0|                                  1|                               2.0|                                 0.0|\n",
      "|2024-01-01 08:00:00|                                   1|                               -1.0|                                  0.0|                                 1|                              2.0|                                0.0|                                    1|                                -1.0|                                   0.0|                                  1|                               2.0|                                 0.0|                                    1|                                -1.0|                                   0.0|                                  1|                               2.0|                                 0.0|\n",
      "|2024-01-01 09:00:00|                                   1|                               -1.0|                                  0.0|                                 1|                              2.0|                                0.0|                                    1|                                -1.0|                                   0.0|                                  1|                               2.0|                                 0.0|                                    1|                                -1.0|                                   0.0|                                  1|                               2.0|                                 0.0|\n",
      "|2024-01-01 10:00:00|                                   1|                               -1.0|                                  0.0|                                 1|                              2.0|                                0.0|                                    1|                                -1.0|                                   0.0|                                  1|                               2.0|                                 0.0|                                    1|                                -1.0|                                   0.0|                                  1|                               2.0|                                 0.0|\n",
      "|2024-01-01 11:00:00|                                   3|                 1.1666666666666667|                                  4.0|                                 3|             -0.16666666666666666|                                5.0|                                    3|                  1.1666666666666667|                                   4.0|                                  3|              -0.16666666666666666|                                 5.0|                                    3|                  1.1666666666666667|                                   4.0|                                  3|              -0.16666666666666666|                                 5.0|\n",
      "|2024-01-01 12:00:00|                                   5|                                0.7|                                  4.0|                                 5|                              0.1|                                5.0|                                    5|                                 0.7|                                   4.0|                                  5|                               0.1|                                 5.0|                                    5|                                 0.7|                                   4.0|                                  5|                               0.1|                                 5.0|\n",
      "|2024-01-01 13:00:00|                                   5|                                0.7|                                  4.0|                                 5|                              0.1|                                5.0|                                    5|                                 0.7|                                   4.0|                                  5|                               0.1|                                 5.0|                                    5|                                 0.7|                                   4.0|                                  5|                               0.1|                                 5.0|\n",
      "|2024-01-01 14:00:00|                                   5|                                0.7|                                  4.0|                                 5|                              0.1|                                5.0|                                    5|                                 0.7|                                   4.0|                                  5|                               0.1|                                 5.0|                                    5|                                 0.7|                                   4.0|                                  5|                               0.1|                                 5.0|\n",
      "+-------------------+------------------------------------+-----------------------------------+-------------------------------------+----------------------------------+---------------------------------+-----------------------------------+-------------------------------------+------------------------------------+--------------------------------------+-----------------------------------+----------------------------------+------------------------------------+-------------------------------------+------------------------------------+--------------------------------------+-----------------------------------+----------------------------------+------------------------------------+\n",
      "only showing top 10 rows\n",
      "\n"
     ]
    },
    {
     "name": "stderr",
     "output_type": "stream",
     "text": [
      "                                                                                \r"
     ]
    }
   ],
   "source": [
    "news_rollstats_df.show(n=10)"
   ]
  },
  {
   "cell_type": "code",
   "execution_count": 13,
   "metadata": {},
   "outputs": [
    {
     "name": "stderr",
     "output_type": "stream",
     "text": [
      "                                                                                \r"
     ]
    },
    {
     "name": "stdout",
     "output_type": "stream",
     "text": [
      "+-------------------+------+----------------------+---------------------+-----------------------+----------------------+---------------------+-----------------------+---------------------+--------------------+----------------------+-----------------------+----------------------+------------------------+---------------------------+--------------------------+----------------------------+-----------------------+----------------------+------------------------+-----------------------+----------------------+------------------------+----------------------+---------------------+-----------------------+------------------------+-----------------------+-------------------------+----------------------------+---------------------------+-----------------------------+-----------------------+----------------------+------------------------+-----------------------+----------------------+------------------------+----------------------+---------------------+-----------------------+------------------------+-----------------------+-------------------------+----------------------------+---------------------------+-----------------------------+\n",
      "|        hour_bucket|Ticker|rolling_24h_Open_count|rolling_24h_Open_mean|rolling_24h_Open_spread|rolling_24h_High_count|rolling_24h_High_mean|rolling_24h_High_spread|rolling_24h_Low_count|rolling_24h_Low_mean|rolling_24h_Low_spread|rolling_24h_Close_count|rolling_24h_Close_mean|rolling_24h_Close_spread|rolling_24h_Adj Close_count|rolling_24h_Adj Close_mean|rolling_24h_Adj Close_spread|rolling_168h_Open_count|rolling_168h_Open_mean|rolling_168h_Open_spread|rolling_168h_High_count|rolling_168h_High_mean|rolling_168h_High_spread|rolling_168h_Low_count|rolling_168h_Low_mean|rolling_168h_Low_spread|rolling_168h_Close_count|rolling_168h_Close_mean|rolling_168h_Close_spread|rolling_168h_Adj Close_count|rolling_168h_Adj Close_mean|rolling_168h_Adj Close_spread|rolling_336h_Open_count|rolling_336h_Open_mean|rolling_336h_Open_spread|rolling_336h_High_count|rolling_336h_High_mean|rolling_336h_High_spread|rolling_336h_Low_count|rolling_336h_Low_mean|rolling_336h_Low_spread|rolling_336h_Close_count|rolling_336h_Close_mean|rolling_336h_Close_spread|rolling_336h_Adj Close_count|rolling_336h_Adj Close_mean|rolling_336h_Adj Close_spread|\n",
      "+-------------------+------+----------------------+---------------------+-----------------------+----------------------+---------------------+-----------------------+---------------------+--------------------+----------------------+-----------------------+----------------------+------------------------+---------------------------+--------------------------+----------------------------+-----------------------+----------------------+------------------------+-----------------------+----------------------+------------------------+----------------------+---------------------+-----------------------+------------------------+-----------------------+-------------------------+----------------------------+---------------------------+-----------------------------+-----------------------+----------------------+------------------------+-----------------------+----------------------+------------------------+----------------------+---------------------+-----------------------+------------------------+-----------------------+-------------------------+----------------------------+---------------------------+-----------------------------+\n",
      "|2024-01-02 14:00:00|   JPM|                     1|   169.08999633789062|                    0.0|                     1|   170.42999267578125|                    0.0|                    1|  168.91000366210938|                   0.0|                      1|     170.1300048828125|                     0.0|                          1|         170.1300048828125|                         0.0|                      1|    169.08999633789062|                     0.0|                      1|    170.42999267578125|                     0.0|                     1|   168.91000366210938|                    0.0|                       1|      170.1300048828125|                      0.0|                           1|          170.1300048828125|                          0.0|                      1|    169.08999633789062|                     0.0|                      1|    170.42999267578125|                     0.0|                     1|   168.91000366210938|                    0.0|                       1|      170.1300048828125|                      0.0|                           1|          170.1300048828125|                          0.0|\n",
      "|2024-01-02 15:00:00|   JPM|                     2|   169.61499786376953|     1.0500030517578125|                     2|   170.67749786376953|     0.4950103759765625|                    2|               169.5|      1.17999267578125|                      2|    170.39500427246094|       0.529998779296875|                          2|        170.39500427246094|           0.529998779296875|                      2|    169.61499786376953|      1.0500030517578125|                      2|    170.67749786376953|      0.4950103759765625|                     2|                169.5|       1.17999267578125|                       2|     170.39500427246094|        0.529998779296875|                           2|         170.39500427246094|            0.529998779296875|                      2|    169.61499786376953|      1.0500030517578125|                      2|    170.67749786376953|      0.4950103759765625|                     2|                169.5|       1.17999267578125|                       2|     170.39500427246094|        0.529998779296875|                           2|         170.39500427246094|            0.529998779296875|\n",
      "|2024-01-02 16:00:00|   JPM|                     3|   169.95999654134116|       1.55999755859375|                     3|     170.913330078125|     0.9550018310546875|                    3|  169.87333170572916|     1.709991455078125|                      3|    170.69000244140625|       1.149993896484375|                          3|        170.69000244140625|           1.149993896484375|                      3|    169.95999654134116|        1.55999755859375|                      3|      170.913330078125|      0.9550018310546875|                     3|   169.87333170572916|      1.709991455078125|                       3|     170.69000244140625|        1.149993896484375|                           3|         170.69000244140625|            1.149993896484375|                      3|    169.95999654134116|        1.55999755859375|                      3|      170.913330078125|      0.9550018310546875|                     3|   169.87333170572916|      1.709991455078125|                       3|     170.69000244140625|        1.149993896484375|                           3|         170.69000244140625|            1.149993896484375|\n",
      "|2024-01-02 17:00:00|   JPM|                     4|   170.28904724121094|     2.1862030029296875|                     4|    171.1412467956543|     1.3950042724609375|                    4|   170.2224998474121|    2.3600006103515625|                      4|    170.96000289916992|      1.6399993896484375|                          4|        170.96000289916992|          1.6399993896484375|                      4|    170.28904724121094|      2.1862030029296875|                      4|     171.1412467956543|      1.3950042724609375|                     4|    170.2224998474121|     2.3600006103515625|                       4|     170.96000289916992|       1.6399993896484375|                           4|         170.96000289916992|           1.6399993896484375|                      4|    170.28904724121094|      2.1862030029296875|                      4|     171.1412467956543|      1.3950042724609375|                     4|    170.2224998474121|     2.3600006103515625|                       4|     170.96000289916992|       1.6399993896484375|                           4|         170.96000289916992|           1.6399993896484375|\n",
      "|2024-01-02 18:00:00|   JPM|                     5|   170.58323669433594|     2.6699981689453125|                     5|   171.29295654296874|     1.4698028564453125|                    5|              170.45|    2.4499969482421875|                      5|     171.0540008544922|      1.6399993896484375|                          5|         171.0540008544922|          1.6399993896484375|                      5|    170.58323669433594|      2.6699981689453125|                      5|    171.29295654296874|      1.4698028564453125|                     5|               170.45|     2.4499969482421875|                       5|      171.0540008544922|       1.6399993896484375|                           5|          171.0540008544922|           1.6399993896484375|                      5|    170.58323669433594|      2.6699981689453125|                      5|    171.29295654296874|      1.4698028564453125|                     5|               170.45|     2.4499969482421875|                       5|      171.0540008544922|       1.6399993896484375|                           5|          171.0540008544922|           1.6399993896484375|\n",
      "|2024-01-02 19:00:00|   JPM|                     6|    170.7243626912435|     2.6699981689453125|                     6|   171.36746470133463|     1.4698028564453125|                    6|   170.5866673787435|    2.4499969482421875|                      6|    171.15500132242838|      1.6399993896484375|                          6|        171.15500132242838|          1.6399993896484375|                      6|     170.7243626912435|      2.6699981689453125|                      6|    171.36746470133463|      1.4698028564453125|                     6|    170.5866673787435|     2.4499969482421875|                       6|     171.15500132242838|       1.6399993896484375|                           6|         171.15500132242838|           1.6399993896484375|                      6|     170.7243626912435|      2.6699981689453125|                      6|    171.36746470133463|      1.4698028564453125|                     6|    170.5866673787435|     2.4499969482421875|                       6|     171.15500132242838|       1.6399993896484375|                           6|         171.15500132242838|           1.6399993896484375|\n",
      "|2024-01-02 20:00:00|   JPM|                     7|   170.85802568708147|     2.6699981689453125|                     7|   171.48211233956474|     1.7400054931640625|                    7|   170.7085723876953|     2.529998779296875|                      7|    171.29571533203125|      2.0099945068359375|                          7|        171.29571533203125|          2.0099945068359375|                      7|    170.85802568708147|      2.6699981689453125|                      7|    171.48211233956474|      1.7400054931640625|                     7|    170.7085723876953|      2.529998779296875|                       7|     171.29571533203125|       2.0099945068359375|                           7|         171.29571533203125|           2.0099945068359375|                      7|    170.85802568708147|      2.6699981689453125|                      7|    171.48211233956474|      1.7400054931640625|                     7|    170.7085723876953|      2.529998779296875|                       7|     171.29571533203125|       2.0099945068359375|                           7|         171.29571533203125|           2.0099945068359375|\n",
      "|2024-01-02 21:00:00|   JPM|                     7|   170.85802568708147|     2.6699981689453125|                     7|   171.48211233956474|     1.7400054931640625|                    7|   170.7085723876953|     2.529998779296875|                      7|    171.29571533203125|      2.0099945068359375|                          7|        171.29571533203125|          2.0099945068359375|                      7|    170.85802568708147|      2.6699981689453125|                      7|    171.48211233956474|      1.7400054931640625|                     7|    170.7085723876953|      2.529998779296875|                       7|     171.29571533203125|       2.0099945068359375|                           7|         171.29571533203125|           2.0099945068359375|                      7|    170.85802568708147|      2.6699981689453125|                      7|    171.48211233956474|      1.7400054931640625|                     7|    170.7085723876953|      2.529998779296875|                       7|     171.29571533203125|       2.0099945068359375|                           7|         171.29571533203125|           2.0099945068359375|\n",
      "|2024-01-02 22:00:00|   JPM|                     7|   170.85802568708147|     2.6699981689453125|                     7|   171.48211233956474|     1.7400054931640625|                    7|   170.7085723876953|     2.529998779296875|                      7|    171.29571533203125|      2.0099945068359375|                          7|        171.29571533203125|          2.0099945068359375|                      7|    170.85802568708147|      2.6699981689453125|                      7|    171.48211233956474|      1.7400054931640625|                     7|    170.7085723876953|      2.529998779296875|                       7|     171.29571533203125|       2.0099945068359375|                           7|         171.29571533203125|           2.0099945068359375|                      7|    170.85802568708147|      2.6699981689453125|                      7|    171.48211233956474|      1.7400054931640625|                     7|    170.7085723876953|      2.529998779296875|                       7|     171.29571533203125|       2.0099945068359375|                           7|         171.29571533203125|           2.0099945068359375|\n",
      "|2024-01-02 23:00:00|   JPM|                     7|   170.85802568708147|     2.6699981689453125|                     7|   171.48211233956474|     1.7400054931640625|                    7|   170.7085723876953|     2.529998779296875|                      7|    171.29571533203125|      2.0099945068359375|                          7|        171.29571533203125|          2.0099945068359375|                      7|    170.85802568708147|      2.6699981689453125|                      7|    171.48211233956474|      1.7400054931640625|                     7|    170.7085723876953|      2.529998779296875|                       7|     171.29571533203125|       2.0099945068359375|                           7|         171.29571533203125|           2.0099945068359375|                      7|    170.85802568708147|      2.6699981689453125|                      7|    171.48211233956474|      1.7400054931640625|                     7|    170.7085723876953|      2.529998779296875|                       7|     171.29571533203125|       2.0099945068359375|                           7|         171.29571533203125|           2.0099945068359375|\n",
      "+-------------------+------+----------------------+---------------------+-----------------------+----------------------+---------------------+-----------------------+---------------------+--------------------+----------------------+-----------------------+----------------------+------------------------+---------------------------+--------------------------+----------------------------+-----------------------+----------------------+------------------------+-----------------------+----------------------+------------------------+----------------------+---------------------+-----------------------+------------------------+-----------------------+-------------------------+----------------------------+---------------------------+-----------------------------+-----------------------+----------------------+------------------------+-----------------------+----------------------+------------------------+----------------------+---------------------+-----------------------+------------------------+-----------------------+-------------------------+----------------------------+---------------------------+-----------------------------+\n",
      "only showing top 10 rows\n",
      "\n"
     ]
    }
   ],
   "source": [
    "market_rollstats_df.show(n=10)"
   ]
  },
  {
   "cell_type": "code",
   "execution_count": 14,
   "metadata": {},
   "outputs": [],
   "source": [
    "joined_df = market_rollstats_df.join(news_rollstats_df, on=\"hour_bucket\", how=\"left\")"
   ]
  },
  {
   "cell_type": "markdown",
   "metadata": {},
   "source": [
    "# Analysis"
   ]
  },
  {
   "cell_type": "code",
   "execution_count": 15,
   "metadata": {},
   "outputs": [],
   "source": [
    "from pyspark.ml.feature import VectorAssembler\n",
    "from pyspark.ml.regression import LinearRegression\n",
    "from pyspark.ml.evaluation import RegressionEvaluator"
   ]
  },
  {
   "cell_type": "code",
   "execution_count": 16,
   "metadata": {},
   "outputs": [],
   "source": [
    "# Prepare dataframes and join\n",
    "news_rollstats_df = news_rollstats_df.orderBy(\"hour_bucket\")\n",
    "market_rollstats_df = market_rollstats_df.orderBy(\"hour_bucket\")\n",
    "df = news_rollstats_df.join(market_rollstats_df, on=\"hour_bucket\", how=\"inner\").drop(\"Ticker\")"
   ]
  },
  {
   "cell_type": "code",
   "execution_count": 17,
   "metadata": {},
   "outputs": [],
   "source": [
    "# Extract time features\n",
    "df = (\n",
    "    df\n",
    "    .withColumn(\"hour_bucket\", F.col(\"hour_bucket\"))\n",
    "    .withColumn(\"date\", F.to_date(F.col(\"hour_bucket\")))\n",
    "    .withColumn(\"hour\", F.hour(F.col(\"hour_bucket\")))\n",
    "    .withColumn(\"dayofweek\", F.dayofweek(F.col(\"hour_bucket\")))\n",
    "    .withColumn(\"week\", F.weekofyear(F.col(\"hour_bucket\")))\n",
    "    .withColumn(\"month\", F.month(F.col(\"hour_bucket\")))\n",
    "    .withColumn(\"year\", F.year(F.col(\"hour_bucket\")))\n",
    ")"
   ]
  },
  {
   "cell_type": "code",
   "execution_count": 18,
   "metadata": {},
   "outputs": [],
   "source": [
    "# Split into train and test sets\n",
    "train_df = df.filter(F.col(\"hour_bucket\") < \"2024-10-01\").na.drop()\n",
    "test_df = df.filter(F.col(\"hour_bucket\") >= \"2024-10-01\").na.drop()\n",
    "\n",
    "# Feature and target columns\n",
    "features = [\n",
    "    \"hour\", \"dayofweek\", \"week\", \"month\", \"year\",\n",
    "    \"rolling_24h_rating_republicans_mean\", \n",
    "    \"rolling_168h_rating_republicans_mean\", \n",
    "    \"rolling_336h_rating_republicans_mean\", \n",
    "]\n",
    "target = \"rolling_24h_Close_mean\"\n"
   ]
  },
  {
   "cell_type": "code",
   "execution_count": 19,
   "metadata": {},
   "outputs": [],
   "source": [
    "# Assemble feature vectors\n",
    "assembler = VectorAssembler(inputCols=features, outputCol=\"features\")\n",
    "train_data = assembler.transform(train_df).select(\"features\", target)\n",
    "test_data = assembler.transform(test_df).select(\"features\", target)"
   ]
  },
  {
   "cell_type": "code",
   "execution_count": 20,
   "metadata": {},
   "outputs": [
    {
     "name": "stderr",
     "output_type": "stream",
     "text": [
      "24/12/07 08:05:37 WARN Instrumentation: [3c80953f] regParam is zero, which might cause numerical instability and overfitting.\n",
      "24/12/07 08:05:39 WARN InstanceBuilder: Failed to load implementation from:dev.ludovic.netlib.blas.JNIBLAS\n",
      "24/12/07 08:05:41 WARN InstanceBuilder: Failed to load implementation from:dev.ludovic.netlib.lapack.JNILAPACK\n",
      "24/12/07 08:05:41 WARN Instrumentation: [3c80953f] Cholesky solver failed due to singular covariance matrix. Retrying with Quasi-Newton solver.\n",
      "                                                                                \r"
     ]
    },
    {
     "name": "stdout",
     "output_type": "stream",
     "text": [
      "R²: 0.3634758397082356\n",
      "Adj. R²: 0.35744243534528053\n",
      "RMSE: 8.457587187473194\n"
     ]
    },
    {
     "name": "stderr",
     "output_type": "stream",
     "text": [
      "                                                                                \r"
     ]
    }
   ],
   "source": [
    "# Train linear regression model\n",
    "lr = LinearRegression(featuresCol=\"features\", labelCol=target)\n",
    "model = lr.fit(train_data)\n",
    "# Make predictions\n",
    "predictions = model.transform(test_data)\n",
    "# Evaluate model\n",
    "evaluator_r2 = RegressionEvaluator(labelCol=target, predictionCol=\"prediction\", metricName=\"r2\")\n",
    "evaluator_rmse = RegressionEvaluator(labelCol=target, predictionCol=\"prediction\", metricName=\"rmse\")\n",
    "\n",
    "r_squared = evaluator_r2.evaluate(predictions)\n",
    "adj_r_squared = 1 - (1 - r_squared) * (test_df.count() - 1) / (test_df.count() - len(features) - 1)\n",
    "rmse = evaluator_rmse.evaluate(predictions)\n",
    "print(f\"R²: {r_squared}\")\n",
    "print(f\"Adj. R²: {adj_r_squared}\")\n",
    "print(f\"RMSE: {rmse}\")"
   ]
  },
  {
   "cell_type": "code",
   "execution_count": 21,
   "metadata": {},
   "outputs": [],
   "source": [
    "# news_pd_df = news_rollstats_df.orderBy(\"hour_bucket\").toPandas()\n",
    "# market_pd_df = market_rollstats_df.orderBy(\"hour_bucket\").toPandas()\n",
    "# df = news_pd_df.merge(market_pd_df, on=\"hour_bucket\", how=\"inner\").drop(columns=[\"Ticker\"])"
   ]
  },
  {
   "cell_type": "code",
   "execution_count": 22,
   "metadata": {},
   "outputs": [],
   "source": [
    "# # extract time features from the hour_bucket\n",
    "# df[\"hour_bucket\"] = pd.to_datetime(df[\"hour_bucket\"])\n",
    "# df[\"date\"] = df[\"hour_bucket\"].dt.date\n",
    "# df[\"hour\"] = df[\"hour_bucket\"].dt.hour\n",
    "# df[\"dayofweek\"] = df[\"hour_bucket\"].dt.dayofweek\n",
    "# df[\"week\"] = df[\"hour_bucket\"].dt.isocalendar().week\n",
    "# df[\"month\"] = df[\"hour_bucket\"].dt.month\n",
    "# df[\"year\"] = df[\"hour_bucket\"].dt.year"
   ]
  },
  {
   "cell_type": "code",
   "execution_count": 23,
   "metadata": {},
   "outputs": [],
   "source": [
    "# # split df into train and test data based on hour_bucket before and after 2024-11-01\n",
    "# train_df = df[df[\"hour_bucket\"] < \"2024-11-01\"].dropna()\n",
    "# test_df = df[df[\"hour_bucket\"] >= \"2024-11-01\"].dropna()\n",
    "\n",
    "# features = [\n",
    "#   \"hour\", \"dayofweek\", \"week\", \"month\", \"year\", \n",
    "#   \"rolling_24h_rating_republicans_mean\", \"rolling_24h_rating_democrats_mean\", \n",
    "#   \"rolling_168h_rating_republicans_mean\", \"rolling_168h_rating_democrats_mean\",\n",
    "#   \"rolling_336h_rating_republicans_mean\", \"rolling_336h_rating_democrats_mean\",\n",
    "#   \"rolling_24h_Open_mean\", \n",
    "# ]\n",
    "# target = \"rolling_24h_Close_mean\"\n",
    "# X_train = train_df[features]\n",
    "# X_test = test_df[features]\n",
    "# y_train = train_df[target]\n",
    "# y_test = test_df[target]"
   ]
  },
  {
   "cell_type": "code",
   "execution_count": 24,
   "metadata": {},
   "outputs": [],
   "source": [
    "# from sklearn.linear_model import LinearRegression\n",
    "# from sklearn.metrics import r2_score\n",
    "\n",
    "# model = LinearRegression()\n",
    "# model.fit(X_train, y_train)\n",
    "# y_pred = model.predict(X_test)\n",
    "\n",
    "# r_squared = r2_score(y_test, y_pred)\n",
    "# print(\"R²:\", r_squared)\n",
    "\n",
    "# # print RMSE\n",
    "# from sklearn.metrics import mean_squared_error\n",
    "# import math\n",
    "# rmse = math.sqrt(mean_squared_error(y_test, y_pred))\n",
    "# print(\"RMSE:\", rmse)"
   ]
  },
  {
   "cell_type": "code",
   "execution_count": 25,
   "metadata": {},
   "outputs": [],
   "source": [
    "%%script false --no-raise-error\n",
    "sc.stop()       # Stop the Spark contex"
   ]
  }
 ],
 "metadata": {
  "kernelspec": {
   "display_name": "Python 3",
   "language": "python",
   "name": "python3"
  },
  "language_info": {
   "codemirror_mode": {
    "name": "ipython",
    "version": 3
   },
   "file_extension": ".py",
   "mimetype": "text/x-python",
   "name": "python",
   "nbconvert_exporter": "python",
   "pygments_lexer": "ipython3",
   "version": "3.13.0"
  }
 },
 "nbformat": 4,
 "nbformat_minor": 2
}
