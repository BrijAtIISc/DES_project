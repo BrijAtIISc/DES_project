{
 "cells": [
  {
   "cell_type": "code",
   "execution_count": 1,
   "metadata": {},
   "outputs": [],
   "source": [
    "import glob\n",
    "import json\n",
    "import pyspark.sql.types as T\n",
    "\n",
    "from pyspark import SparkContext, SparkConf\n",
    "from pyspark.sql import SparkSession"
   ]
  },
  {
   "cell_type": "code",
   "execution_count": 2,
   "metadata": {},
   "outputs": [
    {
     "name": "stderr",
     "output_type": "stream",
     "text": [
      "Setting default log level to \"WARN\".\n",
      "To adjust logging level use sc.setLogLevel(newLevel). For SparkR, use setLogLevel(newLevel).\n",
      "24/12/03 02:21:00 WARN NativeCodeLoader: Unable to load native-hadoop library for your platform... using builtin-java classes where applicable\n"
     ]
    }
   ],
   "source": [
    "# Set up the Spark configuration and context\n",
    "conf = SparkConf().setAppName(\"MyApp\").setMaster(\"local[*]\")\n",
    "sc = SparkContext(conf=conf)\n",
    "\n",
    "# Set up the Spark session\n",
    "spark = SparkSession.builder \\\n",
    "    .appName(\"BatchProcessor\") \\\n",
    "    .getOrCreate()"
   ]
  },
  {
   "cell_type": "code",
   "execution_count": 3,
   "metadata": {},
   "outputs": [],
   "source": [
    "def cast_values(record, schema):\n",
    "    for field in schema.fields:\n",
    "        if field.name in record:\n",
    "            if isinstance(record[field.name], int) and isinstance(field.dataType, T.FloatType):\n",
    "                record[field.name] = float(record[field.name])\n",
    "            # Add more type checks and casts as needed\n",
    "    return record"
   ]
  },
  {
   "cell_type": "code",
   "execution_count": 4,
   "metadata": {},
   "outputs": [
    {
     "name": "stderr",
     "output_type": "stream",
     "text": [
      "/Library/Frameworks/Python.framework/Versions/3.13/lib/python3.13/site-packages/pyspark/python/lib/pyspark.zip/pyspark/daemon.py:154: DeprecationWarning: This process (pid=43750) is multi-threaded, use of fork() may lead to deadlocks in the child.\n",
      "Exception ignored in: <_io.BufferedWriter name=5>\n",
      "Traceback (most recent call last):\n",
      "  File \"/Library/Frameworks/Python.framework/Versions/3.13/lib/python3.13/site-packages/pyspark/python/lib/pyspark.zip/pyspark/daemon.py\", line 193, in manager\n",
      "BrokenPipeError: [Errno 32] Broken pipe\n",
      "                                                                                \r"
     ]
    },
    {
     "name": "stdout",
     "output_type": "stream",
     "text": [
      "+--------------------+-------------------+-------------------+-------------------+-------------------+--------------------+--------------------+--------------------+--------------------+----------------+------------------+--------------------+--------------------+--------------------+--------------------+--------------------+\n",
      "|             authors|        date_google|      date_metadata|     date_published|        date_target|         description|         explanation|          groq_usage|            metadata|rating_democrats|rating_republicans|          source_url|             summary|                text|               title|                 url|\n",
      "+--------------------+-------------------+-------------------+-------------------+-------------------+--------------------+--------------------+--------------------+--------------------+----------------+------------------+--------------------+--------------------+--------------------+--------------------+--------------------+\n",
      "|[except for day o...|2024-01-02T05:02:55|2024-01-02T05:02:55|2024-01-02T05:02:55|2024-01-01T00:00:00|U.S. presidential...|This text is slig...|CompletionUsage(c...|{thumbnail -> htt...|             2.0|              -1.0|  https://apnews.com| The volatility s...|Biden and Trump a...|Biden and Trump a...|https://apnews.co...|\n",
      "|[Steve Peoples, A...|2024-01-02T09:45:21|2024-01-02T14:45:21|2024-01-02T14:45:21|2024-01-01T00:00:00|The results will ...|This text is slig...|CompletionUsage(c...|{msapplication-co...|             2.0|              -1.0| https://www.pbs.org| Potential rematc...|Potential rematch...|Potential rematch...|https://www.pbs.o...|\n",
      "|   [Martin Pengelly]|2024-01-12T19:38:38|2024-01-12T19:38:38|2024-01-01T00:00:00|2024-01-01T00:00:00|From the economy ...|This text is more...|CompletionUsage(c...|{twitter -> {app=...|             3.0|              -2.0|https://www.thegu...| What are the key...|What are the key ...|What are the key ...|https://www.thegu...|\n",
      "|[Authors, Editors...|               NULL|               NULL|               NULL|2024-01-01T00:00:00|Psychologists are...|This text is more...|CompletionUsage(c...|{og -> {site_name...|             3.0|              -2.0| https://www.apa.org| This election ye...|This election yea...|This election yea...|https://www.apa.o...|\n",
      "|[Domenico Montanaro]|2024-01-02T05:00:43|2024-01-02T10:00:43|2024-01-02T00:00:00|2024-01-01T00:00:00|Here's what could...|The text is neutr...|CompletionUsage(c...|{date -> 2024-01-...|             1.0|              -1.0| https://www.npr.org| 10 questions for...|10 questions for ...|10 questions for ...|https://www.npr.o...|\n",
      "+--------------------+-------------------+-------------------+-------------------+-------------------+--------------------+--------------------+--------------------+--------------------+----------------+------------------+--------------------+--------------------+--------------------+--------------------+--------------------+\n",
      "only showing top 5 rows\n",
      "\n"
     ]
    },
    {
     "name": "stderr",
     "output_type": "stream",
     "text": [
      "Exception ignored in: <_io.BufferedWriter name=5>\n",
      "Traceback (most recent call last):\n",
      "  File \"/Library/Frameworks/Python.framework/Versions/3.13/lib/python3.13/site-packages/pyspark/python/lib/pyspark.zip/pyspark/daemon.py\", line 193, in manager\n",
      "BrokenPipeError: [Errno 32] Broken pipe\n"
     ]
    },
    {
     "name": "stdout",
     "output_type": "stream",
     "text": [
      "+--------------------+-------------------+-------------------+-------------------+-------------------+--------------------+--------------------+--------------------+--------------------+----------------+------------------+--------------------+--------------------+--------------------+--------------------+--------------------+\n",
      "|             authors|        date_google|      date_metadata|     date_published|        date_target|         description|         explanation|          groq_usage|            metadata|rating_democrats|rating_republicans|          source_url|             summary|                text|               title|                 url|\n",
      "+--------------------+-------------------+-------------------+-------------------+-------------------+--------------------+--------------------+--------------------+--------------------+----------------+------------------+--------------------+--------------------+--------------------+--------------------+--------------------+\n",
      "|                  []|2024-01-23T14:54:35|2024-01-23T14:54:35|2024-01-21T00:00:00|2024-01-21T00:00:00|DeSantis struggle...|This text is slig...|CompletionUsage(c...|{apple-itunes-app...|            -1.0|               2.0|https://www.aljaz...| Ron DeSantis dro...|Ron DeSantis drop...|Ron DeSantis drop...|https://www.aljaz...|\n",
      "|[U.S. Mission Bra...|2024-01-24T12:56:53|2024-01-24T12:56:53|2024-01-22T18:55:03|2024-01-21T00:00:00|                    |This text is neut...|CompletionUsage(c...|{msapplication-Ti...|             0.0|               0.0|https://br.usemba...| Many U.S. federa...|Message for U.S. ...|Message for U.S. ...|https://br.usemba...|\n",
      "|                  []|               NULL|               NULL|               NULL|2024-01-21T00:00:00|His awkwardness w...|This text is slig...|CompletionUsage(c...|{msapplication-Ti...|             2.0|              -2.0| https://www.bbc.com| Florida governor...|US election 2024:...|US election 2024:...|https://www.bbc.c...|\n",
      "|   [Martin Pengelly]|2024-01-22T23:55:12|2024-01-22T23:55:12|2024-01-21T00:00:00|2024-01-21T00:00:00|Hard-right Florid...|This text is mode...|CompletionUsage(c...|{twitter -> {app=...|             1.0|               3.0|https://www.thegu...| Ron DeSantis, th...|Ron DeSantis drop...|Ron DeSantis drop...|https://www.thegu...|\n",
      "|                  []|2024-01-22T14:53:43|2024-01-22T14:53:43|2024-01-22T14:53:40|2024-01-21T00:00:00|The leaders elect...|This text is neut...|CompletionUsage(c...|{twitter -> {data...|             0.0|               0.0|https://www.atlan...| With elections i...|With elections in...|With elections in...|https://www.atlan...|\n",
      "+--------------------+-------------------+-------------------+-------------------+-------------------+--------------------+--------------------+--------------------+--------------------+----------------+------------------+--------------------+--------------------+--------------------+--------------------+--------------------+\n",
      "only showing top 5 rows\n",
      "\n"
     ]
    },
    {
     "name": "stderr",
     "output_type": "stream",
     "text": [
      "Exception ignored in: <_io.BufferedWriter name=5>\n",
      "Traceback (most recent call last):\n",
      "  File \"/Library/Frameworks/Python.framework/Versions/3.13/lib/python3.13/site-packages/pyspark/python/lib/pyspark.zip/pyspark/daemon.py\", line 193, in manager\n",
      "BrokenPipeError: [Errno 32] Broken pipe\n"
     ]
    },
    {
     "name": "stdout",
     "output_type": "stream",
     "text": [
      "+--------------------+-------------------+--------------------+-------------------+-------------------+--------------------+--------------------+--------------------+--------------------+----------------+------------------+--------------------+--------------------+--------------------+--------------------+--------------------+\n",
      "|             authors|        date_google|       date_metadata|     date_published|        date_target|         description|         explanation|          groq_usage|            metadata|rating_democrats|rating_republicans|          source_url|             summary|                text|               title|                 url|\n",
      "+--------------------+-------------------+--------------------+-------------------+-------------------+--------------------+--------------------+--------------------+--------------------+----------------+------------------+--------------------+--------------------+--------------------+--------------------+--------------------+\n",
      "|                  []|2024-08-22T10:28:41| 2024-08-22T10:28:41|               NULL|2024-02-10T00:00:00|The News Literacy...|This text is neut...|CompletionUsage(c...|{twitter -> {desc...|             1.0|               0.0| https://newslit.org| The Misinformati...|Election 2024: Be...|Election 2024: Be...|https://newslit.o...|\n",
      "|                  []|               NULL|                NULL|               NULL|2024-02-10T00:00:00|The US presidenti...|This text is high...|CompletionUsage(c...|{msapplication-Ti...|             4.0|              -4.0| https://www.bbc.com| Trump says he wo...|Trump says he wou...|Trump says he wou...|https://www.bbc.c...|\n",
      "|      [Simone Pathe]|2024-02-10T10:30:29|2024-02-10T10:30:...|2024-02-10T00:00:00|2024-02-10T00:00:00|It won’t suck up ...|The text is sligh...|CompletionUsage(c...|{twitter -> {imag...|             2.0|              -1.0| https://www.cnn.com| The race for the...|Why the race for ...|Why the race for ...|https://www.cnn.c...|\n",
      "|    [Edward Helmore]|2024-02-12T14:29:40| 2024-02-12T14:29:40|2024-02-11T00:00:00|2024-02-10T00:00:00|The Joe Biden Whi...|This text is high...|CompletionUsage(c...|{twitter -> {app=...|             2.0|              -4.0|https://www.thegu...| Trump says he wo...|Trump says he wou...|Trump says he wou...|https://www.thegu...|\n",
      "|[Lawless Is An As...|2024-02-11T05:04:32| 2024-02-11T05:04:32|2024-02-11T05:04:32|2024-02-10T00:00:00|With a divided el...|This text is unfa...|CompletionUsage(c...|{thumbnail -> htt...|             1.0|              -3.0|  https://apnews.com| Many worry that ...|Allies fear the U...|Allies fear the U...|https://apnews.co...|\n",
      "+--------------------+-------------------+--------------------+-------------------+-------------------+--------------------+--------------------+--------------------+--------------------+----------------+------------------+--------------------+--------------------+--------------------+--------------------+--------------------+\n",
      "only showing top 5 rows\n",
      "\n"
     ]
    },
    {
     "name": "stderr",
     "output_type": "stream",
     "text": [
      "Exception ignored in: <_io.BufferedWriter name=5>\n",
      "Traceback (most recent call last):\n",
      "  File \"/Library/Frameworks/Python.framework/Versions/3.13/lib/python3.13/site-packages/pyspark/python/lib/pyspark.zip/pyspark/daemon.py\", line 193, in manager\n",
      "BrokenPipeError: [Errno 32] Broken pipe\n"
     ]
    },
    {
     "name": "stdout",
     "output_type": "stream",
     "text": [
      "+------------------+-------------------+--------------------+-------------------+-------------------+--------------------+--------------------+--------------------+--------------------+----------------+------------------+--------------------+--------------------+--------------------+--------------------+--------------------+\n",
      "|           authors|        date_google|       date_metadata|     date_published|        date_target|         description|         explanation|          groq_usage|            metadata|rating_democrats|rating_republicans|          source_url|             summary|                text|               title|                 url|\n",
      "+------------------+-------------------+--------------------+-------------------+-------------------+--------------------+--------------------+--------------------+--------------------+----------------+------------------+--------------------+--------------------+--------------------+--------------------+--------------------+\n",
      "|[Shane Goldmacher]|2024-03-03T00:55:05| 2024-03-03T00:55:05|2024-03-02T00:00:00|2024-03-01T00:00:00|The share of vote...|This text is unfa...|CompletionUsage(c...|{nyt_uri -> nyt:/...|            -3.0|               3.0|https://www.nytim...| New York Times/S...|Voters Doubt Bide...|Voters Doubt Bide...|https://www.nytim...|\n",
      "|[Al Jazeera Staff]|2024-03-05T17:23:41| 2024-03-05T17:23:41|2024-03-01T00:00:00|2024-03-01T00:00:00|With votes in mor...|This text is neut...|CompletionUsage(c...|{apple-itunes-app...|             0.0|               0.0|https://www.aljaz...| More than a doze...|What is Super Tue...|What is Super Tue...|https://www.aljaz...|\n",
      "|                []|2024-03-01T14:03:21|2024-03-01T19:03:...|2024-03-01T15:23:00|2024-03-01T00:00:00|Supreme Court agr...|This text is slig...|CompletionUsage(c...|{twitter -> {imag...|             2.0|              -2.0| https://www.pbs.org| Supreme Court wi...|Supreme Court wil...|Supreme Court wil...|https://www.pbs.o...|\n",
      "|                []|2024-04-11T17:27:42| 2024-04-11T21:27:42|2024-03-01T23:22:57|2024-03-01T00:00:00|                    |This text is favo...|CompletionUsage(c...|{twitter -> {titl...|             4.0|              -3.0|https://www.justi...| District Court f...|Court Finds That ...|Court Finds That ...|https://www.justi...|\n",
      "|                []|2024-07-23T18:51:31| 2024-07-23T18:51:31|               NULL|2024-03-01T00:00:00|Live 2024 electio...|The text is neutr...|CompletionUsage(c...|{og -> {site_name...|             0.0|               0.0|  https://apnews.com| 2024 election re...|2024 Presidential...|2024 Presidential...|https://apnews.co...|\n",
      "+------------------+-------------------+--------------------+-------------------+-------------------+--------------------+--------------------+--------------------+--------------------+----------------+------------------+--------------------+--------------------+--------------------+--------------------+--------------------+\n",
      "only showing top 5 rows\n",
      "\n"
     ]
    },
    {
     "name": "stderr",
     "output_type": "stream",
     "text": [
      "Exception ignored in: <_io.BufferedWriter name=5>\n",
      "Traceback (most recent call last):\n",
      "  File \"/Library/Frameworks/Python.framework/Versions/3.13/lib/python3.13/site-packages/pyspark/python/lib/pyspark.zip/pyspark/daemon.py\", line 193, in manager\n",
      "BrokenPipeError: [Errno 32] Broken pipe\n"
     ]
    },
    {
     "name": "stdout",
     "output_type": "stream",
     "text": [
      "+--------------------+-------------------+-------------------+-------------------+-------------------+--------------------+--------------------+--------------------+--------------------+----------------+------------------+--------------------+--------------------+--------------------+--------------------+--------------------+\n",
      "|             authors|        date_google|      date_metadata|     date_published|        date_target|         description|         explanation|          groq_usage|            metadata|rating_democrats|rating_republicans|          source_url|             summary|                text|               title|                 url|\n",
      "+--------------------+-------------------+-------------------+-------------------+-------------------+--------------------+--------------------+--------------------+--------------------+----------------+------------------+--------------------+--------------------+--------------------+--------------------+--------------------+\n",
      "|                  []|2024-09-13T13:26:30|2024-09-13T13:26:30|               NULL|2024-03-21T00:00:00|U.S. Elections 20...|This text is neut...|CompletionUsage(c...|{msapplication-Ti...|             0.0|               0.0|https://xk.usemba...| The U.S. has bee...|U.S. Elections 20...|U.S. Elections 20...|https://xk.usemba...|\n",
      "| [U.S. Mission Osce]|2024-03-22T10:29:03|2024-03-22T10:29:03|2024-03-22T10:29:02|2024-03-21T00:00:00|We Americans are ...|The text is neutr...|CompletionUsage(c...|{msapplication-Ti...|             2.0|               1.0|https://osce.usmi...| Invitation to Ob...|Invitation to Obs...|Invitation to Obs...|https://osce.usmi...|\n",
      "|[Laura Silver, Be...|2024-03-21T16:57:08|2024-03-21T16:57:08|2024-03-21T00:00:00|2024-03-21T00:00:00|Most Americans re...|This text is neut...|CompletionUsage(c...|{author -> Laura ...|             0.0|               0.0|https://www.pewre...| Most Americans r...|4. Emotions, news...|4. Emotions, news...|https://www.pewre...|\n",
      "| [U.S. Mission Osce]|2024-03-21T16:38:32|2024-03-21T16:38:32|2024-03-21T16:38:31|2024-03-21T00:00:00|Russia’s presiden...|This text is unfa...|CompletionUsage(c...|{msapplication-Ti...|             0.0|              -2.0|https://osce.usmi...| On the Russian p...|On the Russian pr...|On the Russian pr...|https://osce.usmi...|\n",
      "|   [Martin Pengelly]|2024-03-22T10:02:41|2024-03-22T10:02:41|2024-03-22T00:00:00|2024-03-21T00:00:00|Republican former...|This text is unfa...|CompletionUsage(c...|{twitter -> {app=...|             0.0|              -2.0|https://www.thegu...| Chris Christie r...|Chris Christie re...|Chris Christie re...|https://www.thegu...|\n",
      "+--------------------+-------------------+-------------------+-------------------+-------------------+--------------------+--------------------+--------------------+--------------------+----------------+------------------+--------------------+--------------------+--------------------+--------------------+--------------------+\n",
      "only showing top 5 rows\n",
      "\n"
     ]
    },
    {
     "name": "stderr",
     "output_type": "stream",
     "text": [
      "Exception ignored in: <_io.BufferedWriter name=5>\n",
      "Traceback (most recent call last):\n",
      "  File \"/Library/Frameworks/Python.framework/Versions/3.13/lib/python3.13/site-packages/pyspark/python/lib/pyspark.zip/pyspark/daemon.py\", line 193, in manager\n",
      "BrokenPipeError: [Errno 32] Broken pipe\n"
     ]
    },
    {
     "name": "stdout",
     "output_type": "stream",
     "text": [
      "+--------------------+-------------------+-------------------+-------------------+-------------------+--------------------+--------------------+--------------------+--------------------+----------------+------------------+--------------------+--------------------+--------------------+--------------------+--------------------+\n",
      "|             authors|        date_google|      date_metadata|     date_published|        date_target|         description|         explanation|          groq_usage|            metadata|rating_democrats|rating_republicans|          source_url|             summary|                text|               title|                 url|\n",
      "+--------------------+-------------------+-------------------+-------------------+-------------------+--------------------+--------------------+--------------------+--------------------+----------------+------------------+--------------------+--------------------+--------------------+--------------------+--------------------+\n",
      "|[U.S. Embassy San...|2024-04-10T12:59:54|2024-04-10T12:59:54|2024-04-10T12:25:39|2024-04-10T00:00:00|                    |This text is neut...|CompletionUsage(c...|{twitter -> {data...|             0.0|               0.0|https://do.usemba...| All states are r...|U.S. Embassy in t...|U.S. Embassy in t...|https://do.usemba...|\n",
      "|      [Megha Bahree]|2024-04-11T16:29:18|2024-04-11T16:29:18|2024-04-11T00:00:00|2024-04-10T00:00:00|The fight against...|This text is slig...|CompletionUsage(c...|{apple-itunes-app...|            -1.0|               0.0|https://www.aljaz...| Core consumer pr...|As US inflation t...|As US inflation t...|https://www.aljaz...|\n",
      "|     [Kamila Hanson]|2024-07-11T15:50:38|2024-07-11T15:50:38|2024-04-11T02:31:00|2024-04-10T00:00:00|Get informed abou...|This text is neut...|CompletionUsage(c...|{twitter -> {site...|             0.0|               0.0|  https://prowly.com| A Quick PR Guide...|A Quick PR Guide ...|A Quick PR Guide ...|https://prowly.co...|\n",
      "|    [Laurie Fickman]|               NULL|               NULL|2024-04-04T00:00:00|2024-04-10T00:00:00|Diabetic Medicati...|This text is neut...|CompletionUsage(c...|{date -> Thu, 18 ...|             2.0|              -1.0|      https://uh.edu| UH College of Ph...|UH College of Pha...|UH College of Pha...|https://uh.edu/ne...|\n",
      "|    [Carter Sherman]|2024-06-20T18:45:10|2024-06-20T18:45:10|2024-04-10T00:00:00|2024-04-10T00:00:00|Republicans are t...|This text is high...|CompletionUsage(c...|{twitter -> {app=...|             4.0|              -3.0|https://www.thegu...| Arizona's ban on...|Arizona’s abortio...|Arizona’s abortio...|https://www.thegu...|\n",
      "+--------------------+-------------------+-------------------+-------------------+-------------------+--------------------+--------------------+--------------------+--------------------+----------------+------------------+--------------------+--------------------+--------------------+--------------------+--------------------+\n",
      "only showing top 5 rows\n",
      "\n"
     ]
    },
    {
     "name": "stderr",
     "output_type": "stream",
     "text": [
      "Exception ignored in: <_io.BufferedWriter name=5>\n",
      "Traceback (most recent call last):\n",
      "  File \"/Library/Frameworks/Python.framework/Versions/3.13/lib/python3.13/site-packages/pyspark/python/lib/pyspark.zip/pyspark/daemon.py\", line 193, in manager\n",
      "BrokenPipeError: [Errno 32] Broken pipe\n"
     ]
    },
    {
     "name": "stdout",
     "output_type": "stream",
     "text": [
      "+--------------------+-------------------+-------------------+-------------------+-------------------+--------------------+--------------------+--------------------+--------------------+----------------+------------------+--------------------+--------------------+--------------------+--------------------+--------------------+\n",
      "|             authors|        date_google|      date_metadata|     date_published|        date_target|         description|         explanation|          groq_usage|            metadata|rating_democrats|rating_republicans|          source_url|             summary|                text|               title|                 url|\n",
      "+--------------------+-------------------+-------------------+-------------------+-------------------+--------------------+--------------------+--------------------+--------------------+----------------+------------------+--------------------+--------------------+--------------------+--------------------+--------------------+\n",
      "|[Gregory A. Smith...|2024-04-30T15:00:44|2024-04-30T15:00:44|2024-04-30T00:00:00|2024-04-30T00:00:00|Most registered v...|This text is favo...|CompletionUsage(c...|{parsely-author -...|             1.0|               2.0|https://www.pewre...| Most White Chris...|Voters’ views of ...|Voters’ views of ...|https://www.pewre...|\n",
      "|      [Adam Gabbatt]|2024-05-02T01:31:11|2024-05-02T01:31:11|2024-05-01T00:00:00|2024-04-30T00:00:00|Thousands of stud...|This text is unfa...|CompletionUsage(c...|{twitter -> {app=...|            -3.0|               2.0|https://www.thegu...| Thousands of stu...|What do the US ca...|What do the US ca...|https://www.thegu...|\n",
      "|[The Media Insigh...|2024-05-01T12:39:55|2024-05-01T16:39:55|2024-05-01T10:00:58|2024-04-30T00:00:00|Most adults follo...|The text is neutr...|CompletionUsage(c...|{twitter -> {imag...|             0.0|               0.0|https://americanp...| Most adults foll...|Election news beh...|Election news beh...|https://americanp...|\n",
      "|[Eric Cortellessa...|2024-04-30T11:00:00|2024-04-30T11:00:00|               NULL|2024-04-30T00:00:00|In exclusive inte...|This text is high...|CompletionUsage(c...|{application-name...|             4.0|              -4.0|    https://time.com| Donald Trump thi...|How Far Trump Wou...|How Far Trump Wou...|https://time.com/...|\n",
      "|        [Sam Kosmas]|2024-04-30T17:44:19|2024-04-30T17:44:19|               NULL|2024-04-30T00:00:00|Presidential elec...|This text is neut...|CompletionUsage(c...|{pagetype -> arti...|             0.0|               0.0|https://www.fox5d...| Allan Lichtman h...|Presidential pred...|Presidential pred...|https://www.fox5d...|\n",
      "+--------------------+-------------------+-------------------+-------------------+-------------------+--------------------+--------------------+--------------------+--------------------+----------------+------------------+--------------------+--------------------+--------------------+--------------------+--------------------+\n",
      "only showing top 5 rows\n",
      "\n"
     ]
    },
    {
     "name": "stderr",
     "output_type": "stream",
     "text": [
      "Exception ignored in: <_io.BufferedWriter name=5>\n",
      "Traceback (most recent call last):\n",
      "  File \"/Library/Frameworks/Python.framework/Versions/3.13/lib/python3.13/site-packages/pyspark/python/lib/pyspark.zip/pyspark/daemon.py\", line 193, in manager\n",
      "BrokenPipeError: [Errno 32] Broken pipe\n"
     ]
    },
    {
     "name": "stdout",
     "output_type": "stream",
     "text": [
      "+--------------------+-------------------+-------------------+-------------------+-------------------+--------------------+--------------------+--------------------+--------------------+----------------+------------------+--------------------+--------------------+--------------------+--------------------+--------------------+\n",
      "|             authors|        date_google|      date_metadata|     date_published|        date_target|         description|         explanation|          groq_usage|            metadata|rating_democrats|rating_republicans|          source_url|             summary|                text|               title|                 url|\n",
      "+--------------------+-------------------+-------------------+-------------------+-------------------+--------------------+--------------------+--------------------+--------------------+----------------+------------------+--------------------+--------------------+--------------------+--------------------+--------------------+\n",
      "|[Kiana Cox, .Wp-B...|2024-05-20T15:50:51|2024-05-20T15:50:51|2024-05-20T00:00:00|2024-05-20T00:00:00|Black voters are ...|This text is slig...|CompletionUsage(c...|{author -> Kiana ...|             2.0|              -2.0|https://www.pewre...| An Early Look at...|An Early Look at ...|An Early Look at ...|https://www.pewre...|\n",
      "|  [James Capobianco]|               NULL|2024-05-20T12:03:00|               NULL|2024-05-20T00:00:00|                    |This text is neut...|CompletionUsage(c...|{msapplication-co...|             0.0|               0.0|https://guides.li...| FactCheck.org mo...|Campaigns & Elect...|Campaigns & Elect...|https://guides.li...|\n",
      "|[Ho-Chun Herbert ...|2024-06-04T03:48:57|2024-11-22T20:05:29|2024-05-21T00:18:35|2024-05-20T00:00:00|Taiwan has one of...|This text is neut...|CompletionUsage(c...|{citation_publica...|             1.0|              -2.0|https://misinfore...| Most misinformat...|US-skepticism and...|US-skepticism and...|https://misinfore...|\n",
      "|  [James Capobianco]|               NULL|2024-05-20T12:03:00|               NULL|2024-05-20T00:00:00|                    |This text is neut...|CompletionUsage(c...|{msapplication-co...|             0.0|               0.0|https://guides.li...| Non-partisan new...|Campaigns & Elect...|Campaigns & Elect...|https://guides.li...|\n",
      "|  [Associated Press]|               NULL|               NULL|2024-05-20T21:10:11|2024-05-20T00:00:00|All of Donald Tru...|This text is neut...|CompletionUsage(c...|{apple-itunes-app...|             0.0|               0.0|https://www.voane...| Donald Trump's t...|US 2024 election:...|US 2024 election:...|https://www.voane...|\n",
      "+--------------------+-------------------+-------------------+-------------------+-------------------+--------------------+--------------------+--------------------+--------------------+----------------+------------------+--------------------+--------------------+--------------------+--------------------+--------------------+\n",
      "only showing top 5 rows\n",
      "\n"
     ]
    },
    {
     "name": "stderr",
     "output_type": "stream",
     "text": [
      "Exception ignored in: <_io.BufferedWriter name=5>\n",
      "Traceback (most recent call last):\n",
      "  File \"/Library/Frameworks/Python.framework/Versions/3.13/lib/python3.13/site-packages/pyspark/python/lib/pyspark.zip/pyspark/daemon.py\", line 193, in manager\n",
      "BrokenPipeError: [Errno 32] Broken pipe\n"
     ]
    },
    {
     "name": "stdout",
     "output_type": "stream",
     "text": [
      "+-----------------+--------------------+-------------------+-------------------+-------------------+--------------------+--------------------+--------------------+--------------------+----------------+------------------+--------------------+--------------------+--------------------+--------------------+--------------------+\n",
      "|          authors|         date_google|      date_metadata|     date_published|        date_target|         description|         explanation|          groq_usage|            metadata|rating_democrats|rating_republicans|          source_url|             summary|                text|               title|                 url|\n",
      "+-----------------+--------------------+-------------------+-------------------+-------------------+--------------------+--------------------+--------------------+--------------------+----------------+------------------+--------------------+--------------------+--------------------+--------------------+--------------------+\n",
      "|               []|2024-06-09T11:00:...|               NULL|               NULL|2024-06-09T00:00:00|                    |This text is neut...|CompletionUsage(c...|{apple-itunes-app...|             0.0|               0.0|  https://www.ft.com| US Presidential ...|Joe Biden cuts Do...|Joe Biden cuts Do...|https://www.ft.co...|\n",
      "|     [Ankita Rao]| 2024-06-13T13:32:13|2024-06-13T13:32:13|2024-06-10T00:00:00|2024-06-09T00:00:00|The US and its pe...|This text appears...|CompletionUsage(c...|{twitter -> {app=...|             0.0|               0.0|https://www.thegu...| American psyche:...|American psyche: ...|American psyche: ...|https://www.thegu...|\n",
      "|     [Rob Garver]|                NULL|               NULL|2024-06-10T23:54:40|2024-06-09T00:00:00|Former president ...|This text is unfa...|CompletionUsage(c...|{apple-itunes-app...|             4.0|              -3.0|https://www.voane...| Former President...|Trump’s vows of ‘...|Trump’s vows of ‘...|https://www.voane...|\n",
      "|[Maziar Motamedi]| 2024-06-09T14:31:26|2024-06-09T14:31:26|2024-06-09T00:00:00|2024-06-09T00:00:00|Parliament speake...|This text is neut...|CompletionUsage(c...|{apple-itunes-app...|             0.0|               0.0|https://www.aljaz...| Six people, incl...|Ghalibaf among si...|Ghalibaf among si...|https://www.aljaz...|\n",
      "|               []| 2024-06-09T23:42:08|2024-06-09T23:42:08|2024-06-10T03:23:28|2024-06-09T00:00:00|Despite the adver...|This text is mode...|CompletionUsage(c...|{twitter -> {imag...|             0.0|               2.0| https://www.ajc.org| AJC’s 2024 Surve...|Key Takeaways fro...|Key Takeaways fro...|https://www.ajc.o...|\n",
      "+-----------------+--------------------+-------------------+-------------------+-------------------+--------------------+--------------------+--------------------+--------------------+----------------+------------------+--------------------+--------------------+--------------------+--------------------+--------------------+\n",
      "only showing top 5 rows\n",
      "\n"
     ]
    },
    {
     "name": "stderr",
     "output_type": "stream",
     "text": [
      "Exception ignored in: <_io.BufferedWriter name=5>\n",
      "Traceback (most recent call last):\n",
      "  File \"/Library/Frameworks/Python.framework/Versions/3.13/lib/python3.13/site-packages/pyspark/python/lib/pyspark.zip/pyspark/daemon.py\", line 193, in manager\n",
      "BrokenPipeError: [Errno 32] Broken pipe\n"
     ]
    },
    {
     "name": "stdout",
     "output_type": "stream",
     "text": [
      "+--------------------+-------------------+-------------------+-------------------+-------------------+--------------------+--------------------+--------------------+--------------------+----------------+------------------+--------------------+--------------------+--------------------+--------------------+--------------------+\n",
      "|             authors|        date_google|      date_metadata|     date_published|        date_target|         description|         explanation|          groq_usage|            metadata|rating_democrats|rating_republicans|          source_url|             summary|                text|               title|                 url|\n",
      "+--------------------+-------------------+-------------------+-------------------+-------------------+--------------------+--------------------+--------------------+--------------------+----------------+------------------+--------------------+--------------------+--------------------+--------------------+--------------------+\n",
      "|[Virginia Pietrom...|2024-06-29T11:34:39|2024-06-29T11:34:39|2024-06-29T00:00:00|2024-06-29T00:00:00|Pezeshkian (10.4 ...|This text is neut...|CompletionUsage(c...|{apple-itunes-app...|             0.0|               0.0|https://www.aljaz...| Iran presidentia...|Iran presidential...|Iran presidential...|https://www.aljaz...|\n",
      "|                  []|2024-06-30T10:15:24|2024-06-30T10:15:24|2024-06-30T00:00:00|2024-06-29T00:00:00|Democratic donors...|This text is unfa...|CompletionUsage(c...|{apple-itunes-app...|            -3.0|               2.0|https://www.aljaz...| Biden courts US ...|Biden courts US d...|Biden courts US d...|https://www.aljaz...|\n",
      "|   [Sammy Gecsoyler]|2024-07-01T09:28:36|2024-07-01T09:28:36|2024-06-29T00:00:00|2024-06-29T00:00:00|Editorial board s...|This text is high...|CompletionUsage(c...|{twitter -> {app=...|            -4.0|               1.0|https://www.thegu...| New York Times u...|New York Times ur...|New York Times ur...|https://www.thegu...|\n",
      "|[- Sachenkumar Ra...|               NULL|2024-06-29T07:59:00|               NULL|2024-06-29T00:00:00|The Governor of C...|This text is slig...|CompletionUsage(c...|{website -> https...|             2.0|               0.0|https://m.economi...| Gavin Newsom is ...|US Presidential E...|US Presidential E...|https://m.economi...|\n",
      "|       [Robert Tait]|2024-06-30T22:18:22|2024-06-30T22:18:22|2024-06-29T00:00:00|2024-06-29T00:00:00|Pressure mounts a...|This text is high...|CompletionUsage(c...|{twitter -> {app=...|             4.0|              -4.0|https://www.thegu...| American media h...|American media he...|American media he...|https://www.thegu...|\n",
      "+--------------------+-------------------+-------------------+-------------------+-------------------+--------------------+--------------------+--------------------+--------------------+----------------+------------------+--------------------+--------------------+--------------------+--------------------+--------------------+\n",
      "only showing top 5 rows\n",
      "\n"
     ]
    },
    {
     "name": "stderr",
     "output_type": "stream",
     "text": [
      "Exception ignored in: <_io.BufferedWriter name=5>\n",
      "Traceback (most recent call last):\n",
      "  File \"/Library/Frameworks/Python.framework/Versions/3.13/lib/python3.13/site-packages/pyspark/python/lib/pyspark.zip/pyspark/daemon.py\", line 193, in manager\n",
      "BrokenPipeError: [Errno 32] Broken pipe\n"
     ]
    },
    {
     "name": "stdout",
     "output_type": "stream",
     "text": [
      "+--------------------+--------------------+--------------------+-------------------+-------------------+--------------------+--------------------+--------------------+--------------------+----------------+------------------+--------------------+--------------------+--------------------+--------------------+--------------------+\n",
      "|             authors|         date_google|       date_metadata|     date_published|        date_target|         description|         explanation|          groq_usage|            metadata|rating_democrats|rating_republicans|          source_url|             summary|                text|               title|                 url|\n",
      "+--------------------+--------------------+--------------------+-------------------+-------------------+--------------------+--------------------+--------------------+--------------------+----------------+------------------+--------------------+--------------------+--------------------+--------------------+--------------------+\n",
      "|[Luis Noe-Bustama...| 2024-08-28T14:08:51| 2024-08-28T14:08:51|2024-07-19T00:00:00|2024-07-19T00:00:00|While Latino vote...|The text is neutr...|CompletionUsage(c...|{parsely-author -...|             2.0|              -1.0|https://www.pewre...| The number of La...|How Latino voters...|How Latino voters...|https://www.pewre...|\n",
      "|  [Rhitu Chatterjee]| 2024-07-19T09:00:00| 2024-07-19T09:00:00|2024-07-18T00:00:00|2024-07-19T00:00:00|Psychologists say...|This text appears...|CompletionUsage(c...|{date -> 2024-07-...|             0.0|               0.0| https://www.npr.org| Three-quarters o...|Stressed about po...|Stressed about po...|https://www.npr.o...|\n",
      "|   [Matt Schiavenza]| 2024-09-16T21:05:53| 2024-09-16T21:05:53|2024-07-19T15:44:10|2024-07-19T00:00:00|The truth about i...|This text is more...|CompletionUsage(c...|{twitter -> {site...|             2.0|              -1.0|    https://hias.org| Immigration, ref...|Deep Dive: Immigr...|Deep Dive: Immigr...|https://hias.org/...|\n",
      "|[María Méndez, Ju...|2024-07-19T19:46:...|2024-07-19T19:46:...|2024-07-19T00:00:00|2024-07-19T00:00:00|After Joe Biden d...|This text is neut...|CompletionUsage(c...|{copyright -> © T...|             0.0|               0.0|https://www.texas...| Democrats need t...|Democrats need to...|Democrats need to...|https://www.texas...|\n",
      "|           [Authors]| 2024-07-19T18:41:00| 2024-07-19T18:41:00|2024-07-19T18:41:00|2024-07-19T00:00:00|Former President ...|This text is unfa...|CompletionUsage(c...|{apple-itunes-app...|            -2.0|               3.0|https://www.thehi...| Former President...|Editorial on the ...|Editorial on the ...|https://www.thehi...|\n",
      "+--------------------+--------------------+--------------------+-------------------+-------------------+--------------------+--------------------+--------------------+--------------------+----------------+------------------+--------------------+--------------------+--------------------+--------------------+--------------------+\n",
      "only showing top 5 rows\n",
      "\n"
     ]
    },
    {
     "name": "stderr",
     "output_type": "stream",
     "text": [
      "Exception ignored in: <_io.BufferedWriter name=5>\n",
      "Traceback (most recent call last):\n",
      "  File \"/Library/Frameworks/Python.framework/Versions/3.13/lib/python3.13/site-packages/pyspark/python/lib/pyspark.zip/pyspark/daemon.py\", line 193, in manager\n",
      "BrokenPipeError: [Errno 32] Broken pipe\n"
     ]
    },
    {
     "name": "stdout",
     "output_type": "stream",
     "text": [
      "+--------------------+--------------------+--------------------+-------------------+-------------------+--------------------+--------------------+--------------------+--------------------+----------------+------------------+--------------------+--------------------+--------------------+--------------------+--------------------+\n",
      "|             authors|         date_google|       date_metadata|     date_published|        date_target|         description|         explanation|          groq_usage|            metadata|rating_democrats|rating_republicans|          source_url|             summary|                text|               title|                 url|\n",
      "+--------------------+--------------------+--------------------+-------------------+-------------------+--------------------+--------------------+--------------------+--------------------+----------------+------------------+--------------------+--------------------+--------------------+--------------------+--------------------+\n",
      "|       [Juliana Kim]| 2024-08-09T20:11:51| 2024-08-09T20:11:51|2024-08-09T00:00:00|2024-08-08T00:00:00|Researchers at Mi...|This text is more...|CompletionUsage(c...|{date -> 2024-08-...|             3.0|              -2.0| https://www.npr.org| Microsoft detect...|Microsoft detects...|Microsoft detects...|https://www.npr.o...|\n",
      "|[Ali Swenson, Ass...| 2024-08-08T14:41:32| 2024-08-08T14:41:32|2024-08-08T14:41:32|2024-08-08T00:00:00|The survey from T...|The text suggests...|CompletionUsage(c...|{msapplication-co...|             4.0|               2.0| https://www.pbs.org| AP-NORC poll: 3 ...|About 3 in 4 U.S....|About 3 in 4 U.S....|https://www.pbs.o...|\n",
      "|       [Clint Watts]| 2024-08-21T17:16:18| 2024-08-21T17:16:18|2024-08-08T00:00:00|2024-08-08T00:00:00|Discover how Iran...|This text is slig...|CompletionUsage(c...|{author -> Clint ...|             1.0|              -1.0|https://blogs.mic...| Iranian groups h...|Iran Targeting 20...|Iran Targeting 20...|https://blogs.mic...|\n",
      "|      [Sean Lyngaas]|2024-08-09T04:01:...|2024-08-09T04:01:...|2024-08-09T00:00:00|2024-08-08T00:00:00|Iranian operative...|This text is slig...|CompletionUsage(c...|{twitter -> {imag...|             2.0|              -1.0| https://www.cnn.com| Iran steps up in...|Iran steps up inf...|Iran steps up inf...|https://www.cnn.c...|\n",
      "|[Alice Masquelier...| 2024-08-09T09:07:49| 2024-08-09T09:07:49|2024-08-08T04:01:00|2024-08-08T00:00:00|NEW YORK (AP) — R...|The text is sligh...|CompletionUsage(c...|{msapplication-Ti...|             2.0|               0.0|  https://www.ap.org| Majority of US a...|Majority of US ad...|Majority of US ad...|https://www.ap.or...|\n",
      "+--------------------+--------------------+--------------------+-------------------+-------------------+--------------------+--------------------+--------------------+--------------------+----------------+------------------+--------------------+--------------------+--------------------+--------------------+--------------------+\n",
      "only showing top 5 rows\n",
      "\n"
     ]
    },
    {
     "name": "stderr",
     "output_type": "stream",
     "text": [
      "Exception ignored in: <_io.BufferedWriter name=5>\n",
      "Traceback (most recent call last):\n",
      "  File \"/Library/Frameworks/Python.framework/Versions/3.13/lib/python3.13/site-packages/pyspark/python/lib/pyspark.zip/pyspark/daemon.py\", line 193, in manager\n",
      "BrokenPipeError: [Errno 32] Broken pipe\n"
     ]
    },
    {
     "name": "stdout",
     "output_type": "stream",
     "text": [
      "+--------------------+-------------------+-------------------+-------------------+-------------------+--------------------+--------------------+--------------------+--------------------+----------------+------------------+--------------------+--------------------+--------------------+--------------------+--------------------+\n",
      "|             authors|        date_google|      date_metadata|     date_published|        date_target|         description|         explanation|          groq_usage|            metadata|rating_democrats|rating_republicans|          source_url|             summary|                text|               title|                 url|\n",
      "+--------------------+-------------------+-------------------+-------------------+-------------------+--------------------+--------------------+--------------------+--------------------+----------------+------------------+--------------------+--------------------+--------------------+--------------------+--------------------+\n",
      "|     [Joe Hernandez]|2024-08-29T09:00:00|2024-08-29T09:00:00|2024-08-29T00:00:00|2024-08-28T00:00:00|Political campaig...|This text is slig...|CompletionUsage(c...|{date -> 2024-08-...|             2.0|              -1.0| https://www.npr.org| How swing states...|How swing states ...|How swing states ...|https://www.npr.o...|\n",
      "|[U.S. Mission Chile]|2024-08-30T17:53:09|2024-08-30T17:53:09|2024-08-29T17:45:33|2024-08-28T00:00:00|                    |This text is unfa...|CompletionUsage(c...|{msapplication-Ti...|             4.0|              -2.0|https://cl.usemba...| The United State...|Marking One Month...|Marking One Month...|https://cl.usemba...|\n",
      "|[Scott Keeter, Co...|2024-08-28T17:43:03|2024-08-28T17:43:03|2024-08-28T00:00:00|2024-08-28T00:00:00|Polls are more us...|This text is neut...|CompletionUsage(c...|{parsely-author -...|             0.0|               0.0|https://www.pewre...| Many Americans r...|Key things to kno...|Key things to kno...|https://www.pewre...|\n",
      "|            [Gallup]|               NULL|               NULL|2024-08-29T00:00:00|2024-08-28T00:00:00|Sixty-nine percen...|The text is highl...|CompletionUsage(c...|{google-site-veri...|             4.0|              -3.0|https://news.gall...| Americans’ enthu...|Democrats Drive S...|Democrats Drive S...|https://news.gall...|\n",
      "|        [Eric Foner]|2024-08-29T10:01:28|2024-08-29T10:01:28|2024-08-29T00:00:00|2024-08-28T00:00:00|Throughout Americ...|The text is moder...|CompletionUsage(c...|{twitter -> {app=...|             3.0|              -1.0|https://www.thegu...| The US president...|The US presidenti...|The US presidenti...|https://www.thegu...|\n",
      "+--------------------+-------------------+-------------------+-------------------+-------------------+--------------------+--------------------+--------------------+--------------------+----------------+------------------+--------------------+--------------------+--------------------+--------------------+--------------------+\n",
      "only showing top 5 rows\n",
      "\n"
     ]
    },
    {
     "name": "stderr",
     "output_type": "stream",
     "text": [
      "Exception ignored in: <_io.BufferedWriter name=5>\n",
      "Traceback (most recent call last):\n",
      "  File \"/Library/Frameworks/Python.framework/Versions/3.13/lib/python3.13/site-packages/pyspark/python/lib/pyspark.zip/pyspark/daemon.py\", line 193, in manager\n",
      "BrokenPipeError: [Errno 32] Broken pipe\n"
     ]
    },
    {
     "name": "stdout",
     "output_type": "stream",
     "text": [
      "+--------------------+-------------------+-------------------+-------------------+-------------------+--------------------+--------------------+--------------------+--------------------+----------------+------------------+--------------------+--------------------+--------------------+--------------------+--------------------+\n",
      "|             authors|        date_google|      date_metadata|     date_published|        date_target|         description|         explanation|          groq_usage|            metadata|rating_democrats|rating_republicans|          source_url|             summary|                text|               title|                 url|\n",
      "+--------------------+-------------------+-------------------+-------------------+-------------------+--------------------+--------------------+--------------------+--------------------+----------------+------------------+--------------------+--------------------+--------------------+--------------------+--------------------+\n",
      "|                  []|2024-09-10T15:17:13|2024-09-10T15:17:13|               NULL|2024-09-17T00:00:00|Founded in 1834, ...|This text is mild...|CompletionUsage(c...|{twitter -> {data...|             2.0|               0.0|https://news.wfu.edu| Professor Caron ...|Election 2024: Fa...|Election 2024: Fa...|https://news.wfu....|\n",
      "|                  []|               NULL|               NULL|2024-09-17T00:00:00|2024-09-17T00:00:00|Jared Mondschein ...|This text is more...|CompletionUsage(c...|{languages -> en-...|             4.0|              -2.0|https://www.sydne...| Before Biden dro...|Assassination att...|Assassination att...|https://www.sydne...|\n",
      "|[U.S. Mission Pol...|2024-09-18T15:55:09|2024-09-18T15:55:09|2024-09-18T15:55:09|2024-09-17T00:00:00|                    |This text is neut...|CompletionUsage(c...|{msapplication-Ti...|             0.0|               0.0|https://pl.usemba...| U.S. citizens ov...|Message for U.S. ...|Message for U.S. ...|https://pl.usemba...|\n",
      "|                  []|               NULL|               NULL|2024-09-09T00:00:00|2024-09-17T00:00:00|Adobe released th...|This text is neut...|CompletionUsage(c...|{twitter -> {imag...|             0.0|               0.0|https://news.adob...| Adobe surveyed o...|Adobe Study Revea...|Adobe Study Revea...|https://news.adob...|\n",
      "|                  []|2024-09-18T21:02:00|2024-09-18T21:02:00|2024-09-18T00:00:00|2024-09-17T00:00:00|Influential union...|This text is unfa...|CompletionUsage(c...|{apple-itunes-app...|            -2.0|               0.0|https://www.aljaz...| Teamsters union ...|Teamsters union s...|Teamsters union s...|https://www.aljaz...|\n",
      "+--------------------+-------------------+-------------------+-------------------+-------------------+--------------------+--------------------+--------------------+--------------------+----------------+------------------+--------------------+--------------------+--------------------+--------------------+--------------------+\n",
      "only showing top 5 rows\n",
      "\n",
      "+--------------------+--------------------+--------------------+-------------------+-------------------+--------------------+--------------------+--------------------+--------------------+----------------+------------------+--------------------+--------------------+--------------------+--------------------+--------------------+\n",
      "|             authors|         date_google|       date_metadata|     date_published|        date_target|         description|         explanation|          groq_usage|            metadata|rating_democrats|rating_republicans|          source_url|             summary|                text|               title|                 url|\n",
      "+--------------------+--------------------+--------------------+-------------------+-------------------+--------------------+--------------------+--------------------+--------------------+----------------+------------------+--------------------+--------------------+--------------------+--------------------+--------------------+\n",
      "|[regulations, fin...| 2024-10-21T19:08:58| 2024-10-21T19:08:58|               NULL|2024-10-07T00:00:00|The side-by-side ...|This text is neut...|CompletionUsage(c...|{twitter -> {data...|             0.0|               0.0| https://www.kff.org| Trump and Harris...|Compare Trump and...|Compare Trump and...|https://www.kff.o...|\n",
      "| [Lifestance Health]| 2024-10-08T13:00:00| 2024-10-08T13:00:00|               NULL|2024-10-07T00:00:00|/PRNewswire/ -- A...|This text is slig...|CompletionUsage(c...|{date -> 2024-10-...|             2.0|              -1.0|https://www.prnew...| 79% of Americans...|LifeStance Survey...|LifeStance Survey...|https://www.prnew...|\n",
      "|[Senior Digital P...|2024-10-07T17:54:...|2024-10-07T17:54:...|2024-10-07T00:00:00|2024-10-07T00:00:00|                    |This text is neut...|CompletionUsage(c...|{twitter -> {imag...|             0.0|               0.0|https://www.wgbh.org| Massachusetts vo...|Mass. presidentia...|Mass. presidentia...|https://www.wgbh....|\n",
      "|         [Dave Roos]| 2024-10-07T10:35:52| 2024-10-07T10:35:52|               NULL|2024-10-07T00:00:00|When scandalous n...|This text is neut...|CompletionUsage(c...|{msapplication-Ti...|             1.0|               0.0|https://www.histo...| A forged letter ...|7 ‘October Surpri...|7 ‘October Surpri...|https://www.histo...|\n",
      "|     [Hansi Lo Wang]| 2024-10-07T09:00:00| 2024-10-07T09:00:00|2024-10-06T00:00:00|2024-10-07T00:00:00|Differences in ho...|The text is moder...|CompletionUsage(c...|{date -> 2024-10-...|             3.0|              -2.0| https://www.npr.org| In 2020, the phe...|This year’s Elect...|This year’s Elect...|https://www.npr.o...|\n",
      "+--------------------+--------------------+--------------------+-------------------+-------------------+--------------------+--------------------+--------------------+--------------------+----------------+------------------+--------------------+--------------------+--------------------+--------------------+--------------------+\n",
      "only showing top 5 rows\n",
      "\n"
     ]
    },
    {
     "name": "stderr",
     "output_type": "stream",
     "text": [
      "Exception ignored in: <_io.BufferedWriter name=5>\n",
      "Traceback (most recent call last):\n",
      "  File \"/Library/Frameworks/Python.framework/Versions/3.13/lib/python3.13/site-packages/pyspark/python/lib/pyspark.zip/pyspark/daemon.py\", line 193, in manager\n",
      "BrokenPipeError: [Errno 32] Broken pipe\n"
     ]
    }
   ],
   "source": [
    "json_files = sorted(glob.glob(f\"../news_ratings/data/ratings_*.json\"))\n",
    "for json_file in json_files:\n",
    "    data = json.load(open(json_file))\n",
    "    schema = T.StructType([\n",
    "        T.StructField(\"authors\", T.ArrayType(T.StringType()), True),\n",
    "        T.StructField(\"date_google\", T.StringType(), True),\n",
    "        T.StructField(\"date_metadata\", T.StringType(), True),\n",
    "        T.StructField(\"date_published\", T.StringType(), True),\n",
    "        T.StructField(\"date_target\", T.StringType(), True),\n",
    "        T.StructField(\"description\", T.StringType(), True),\n",
    "        T.StructField(\"explanation\", T.StringType(), True),\n",
    "        T.StructField(\"groq_usage\", T.StringType(), True),\n",
    "        T.StructField(\"metadata\", T.MapType(T.StringType(), T.StringType()), True),\n",
    "        T.StructField(\"rating_democrats\", T.FloatType(), True),\n",
    "        T.StructField(\"rating_republicans\", T.FloatType(), True),\n",
    "        T.StructField(\"source_url\", T.StringType(), True),\n",
    "        T.StructField(\"summary\", T.StringType(), True),\n",
    "        T.StructField(\"text\", T.StringType(), True),\n",
    "        T.StructField(\"title\", T.StringType(), True),\n",
    "        T.StructField(\"url\", T.StringType(), True)\n",
    "    ])\n",
    "    data = [cast_values(record, schema) for record in data]\n",
    "    df = spark.createDataFrame(data, schema=schema)\n",
    "    df.show(n=5)"
   ]
  },
  {
   "cell_type": "code",
   "execution_count": 5,
   "metadata": {},
   "outputs": [],
   "source": [
    "# Stop the Spark context\n",
    "sc.stop()"
   ]
  }
 ],
 "metadata": {
  "kernelspec": {
   "display_name": "Python 3",
   "language": "python",
   "name": "python3"
  },
  "language_info": {
   "codemirror_mode": {
    "name": "ipython",
    "version": 3
   },
   "file_extension": ".py",
   "mimetype": "text/x-python",
   "name": "python",
   "nbconvert_exporter": "python",
   "pygments_lexer": "ipython3",
   "version": "3.13.0"
  }
 },
 "nbformat": 4,
 "nbformat_minor": 2
}
