{
 "cells": [
  {
   "cell_type": "code",
   "execution_count": null,
   "metadata": {},
   "outputs": [],
   "source": [
    "import pandas as pd\n",
    "import numpy as np\n",
    "from sklearn.linear_model import LinearRegression"
   ]
  },
  {
   "cell_type": "code",
   "execution_count": null,
   "metadata": {},
   "outputs": [],
   "source": [
    "for item in stock_returns.columns:\n",
    "    y = stock_returns[ticker].values\n",
    "    X = np.column_stack([sp500_returns.values, sector_returns.values])\n",
    "    \n",
    "    model = LinearRegression()\n",
    "    model.fit(X, y)\n",
    "    \n",
    "    residuals = y - model.predict(X)\n",
    "    adjusted_returns[ticker] = residuals\n",
    "\n",
    "# Save the normalized data for further analysis\n",
    "adjusted_returns.to_csv(\"normalized_returns.csv\")\n",
    "\n",
    "print(\"Normalized returns generated and saved.\")\n"
   ]
  }
 ],
 "metadata": {
  "kernelspec": {
   "display_name": "Python 3",
   "language": "python",
   "name": "python3"
  },
  "language_info": {
   "name": "python",
   "version": "3.9.6"
  }
 },
 "nbformat": 4,
 "nbformat_minor": 2
}
