{
 "cells": [
  {
   "cell_type": "code",
   "execution_count": null,
   "metadata": {
    "id": "5G7hDBy6YX4D"
   },
   "outputs": [],
   "source": [
    "import re\n",
    "import os\n",
    "import time\n",
    "import json\n",
    "import random\n",
    "import requests\n",
    "import pandas as pd\n",
    "import local_settings as S\n",
    "from datetime import datetime, timezone, timedelta\n",
    "from newspaper import Article, Config\n",
    "from bs4 import BeautifulSoup"
   ]
  },
  {
   "cell_type": "code",
   "execution_count": null,
   "metadata": {},
   "outputs": [],
   "source": [
    "# CONSTANTS\n",
    "KEY_IDX = 0\n",
    "GCSJ_API_KEY = S.GCSJ_API_KEYS[KEY_IDX]\n",
    "GCSJ_ENGINE_ID = S.GCSJ_ENGINE_IDS[KEY_IDX]"
   ]
  },
  {
   "cell_type": "code",
   "execution_count": null,
   "metadata": {
    "id": "2OnHZCB4YX4F"
   },
   "outputs": [],
   "source": [
    "def fetch_google_results(query):\n",
    "    search_url = \"https://www.googleapis.com/customsearch/v1\"\n",
    "    results = []\n",
    "    for offset in [1, 11, 21, 31, 41]:\n",
    "        params = {\n",
    "            \"key\": GCSJ_API_KEY,\n",
    "            \"cx\": GCSJ_ENGINE_ID,\n",
    "            \"start\": offset,\n",
    "            \"lr\": 'lang_en',\n",
    "            \"gl\": 'us',\n",
    "            \"num\": 10,\n",
    "            \"q\": query,\n",
    "        }\n",
    "        res = requests.get(search_url, params=params)\n",
    "        res.raise_for_status()\n",
    "        result = res.json().get(\"items\", [])\n",
    "        results.extend(result)\n",
    "    return results"
   ]
  },
  {
   "cell_type": "code",
   "execution_count": null,
   "metadata": {
    "id": "m6GcTm46YX4F"
   },
   "outputs": [],
   "source": [
    "def get_historical_news(count=20):\n",
    "    results = []\n",
    "    with open(\"./data/completed_dates.csv\", \"r+\") as f:\n",
    "        from_date = datetime.strptime(f.readlines()[-1].strip(), '%Y-%m-%d')\n",
    "        for ctr in range(1, count+1):\n",
    "            dt = from_date + timedelta(days=ctr)\n",
    "            today = dt.strftime('%Y-%m-%d')\n",
    "            tomorrow = (dt + timedelta(days=1)).strftime('%Y-%m-%d')\n",
    "            forbidden = ['youtube.com', 'twitter.com', 'facebook.com', 'instagram.com', 'reddit.com', ]\n",
    "            forbidden = ' '.join([f'-site:{site}' for site in forbidden])\n",
    "            query = f'US presidential election 2024 \"news\" {forbidden} after:{today} before:{tomorrow}'\n",
    "            items = fetch_google_results(query)\n",
    "            f.write(today + '\\n')\n",
    "\n",
    "            for item in items:\n",
    "                item['target'] = today\n",
    "                date_pattern = r'\\d{4}-\\d{2}-\\d{2}T\\d{2}:\\d{2}:\\d{2}(?:\\.\\d+)?(?:Z|[+-]\\d{2}:\\d{2})?'\n",
    "                if matches := re.findall(date_pattern, json.dumps(item)):\n",
    "                    item['time'] = sorted(matches)[len(matches) // 2]\n",
    "                obj = {\n",
    "                    'target': item.get('target', None),\n",
    "                    'time': item.get('time', None),\n",
    "                    'link': item.get('link', None),\n",
    "                }\n",
    "                results.append(obj)\n",
    "\n",
    "    results_df = pd.DataFrame(results)\n",
    "    results_df.to_csv(f\"./data/search_results_{datetime.now().timestamp()}.csv\", sep='|', index=False)\n",
    "    return results"
   ]
  },
  {
   "cell_type": "code",
   "execution_count": null,
   "metadata": {},
   "outputs": [],
   "source": [
    "# %%script false --no-raise-error\n",
    "get_historical_news()"
   ]
  }
 ],
 "metadata": {
  "accelerator": "GPU",
  "colab": {
   "collapsed_sections": [
    "2jP2eLoGYX4D",
    "c8ejA8gqYX4F",
    "nTjuwikcYX4F"
   ],
   "gpuType": "T4",
   "provenance": []
  },
  "kernelspec": {
   "display_name": "Python 3",
   "name": "python3"
  },
  "language_info": {
   "codemirror_mode": {
    "name": "ipython",
    "version": 3
   },
   "file_extension": ".py",
   "mimetype": "text/x-python",
   "name": "python",
   "nbconvert_exporter": "python",
   "pygments_lexer": "ipython3",
   "version": "3.13.0"
  }
 },
 "nbformat": 4,
 "nbformat_minor": 0
}
